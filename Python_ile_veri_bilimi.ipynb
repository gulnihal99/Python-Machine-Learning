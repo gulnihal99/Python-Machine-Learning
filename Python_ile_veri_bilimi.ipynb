{
 "cells": [
  {
   "cell_type": "code",
   "execution_count": 1,
   "id": "eeb7b231",
   "metadata": {},
   "outputs": [],
   "source": [
    "# kütüphaneleri import edelim\n",
    "import pandas as pd\n",
    "import matplotlib.pyplot as plt\n",
    "import numpy as np\n",
    "from collections import Counter\n",
    "# Python'da uyarıları kapatalım\n",
    "import warnings\n",
    "warnings.filterwarnings(\"ignore\")"
   ]
  },
  {
   "cell_type": "code",
   "execution_count": 2,
   "id": "9239103a",
   "metadata": {},
   "outputs": [
    {
     "data": {
      "text/html": [
       "<div>\n",
       "<style scoped>\n",
       "    .dataframe tbody tr th:only-of-type {\n",
       "        vertical-align: middle;\n",
       "    }\n",
       "\n",
       "    .dataframe tbody tr th {\n",
       "        vertical-align: top;\n",
       "    }\n",
       "\n",
       "    .dataframe thead th {\n",
       "        text-align: right;\n",
       "    }\n",
       "</style>\n",
       "<table border=\"1\" class=\"dataframe\">\n",
       "  <thead>\n",
       "    <tr style=\"text-align: right;\">\n",
       "      <th></th>\n",
       "      <th>ID</th>\n",
       "      <th>Name</th>\n",
       "      <th>Sex</th>\n",
       "      <th>Age</th>\n",
       "      <th>Height</th>\n",
       "      <th>Weight</th>\n",
       "      <th>Team</th>\n",
       "      <th>NOC</th>\n",
       "      <th>Games</th>\n",
       "      <th>Year</th>\n",
       "      <th>Season</th>\n",
       "      <th>City</th>\n",
       "      <th>Sport</th>\n",
       "      <th>Event</th>\n",
       "      <th>Medal</th>\n",
       "    </tr>\n",
       "  </thead>\n",
       "  <tbody>\n",
       "    <tr>\n",
       "      <th>0</th>\n",
       "      <td>1</td>\n",
       "      <td>A Dijiang</td>\n",
       "      <td>M</td>\n",
       "      <td>24.0</td>\n",
       "      <td>180.0</td>\n",
       "      <td>80.0</td>\n",
       "      <td>China</td>\n",
       "      <td>CHN</td>\n",
       "      <td>1992 Summer</td>\n",
       "      <td>1992</td>\n",
       "      <td>Summer</td>\n",
       "      <td>Barcelona</td>\n",
       "      <td>Basketball</td>\n",
       "      <td>Basketball Men's Basketball</td>\n",
       "      <td>NaN</td>\n",
       "    </tr>\n",
       "    <tr>\n",
       "      <th>1</th>\n",
       "      <td>2</td>\n",
       "      <td>A Lamusi</td>\n",
       "      <td>M</td>\n",
       "      <td>23.0</td>\n",
       "      <td>170.0</td>\n",
       "      <td>60.0</td>\n",
       "      <td>China</td>\n",
       "      <td>CHN</td>\n",
       "      <td>2012 Summer</td>\n",
       "      <td>2012</td>\n",
       "      <td>Summer</td>\n",
       "      <td>London</td>\n",
       "      <td>Judo</td>\n",
       "      <td>Judo Men's Extra-Lightweight</td>\n",
       "      <td>NaN</td>\n",
       "    </tr>\n",
       "    <tr>\n",
       "      <th>2</th>\n",
       "      <td>3</td>\n",
       "      <td>Gunnar Nielsen Aaby</td>\n",
       "      <td>M</td>\n",
       "      <td>24.0</td>\n",
       "      <td>NaN</td>\n",
       "      <td>NaN</td>\n",
       "      <td>Denmark</td>\n",
       "      <td>DEN</td>\n",
       "      <td>1920 Summer</td>\n",
       "      <td>1920</td>\n",
       "      <td>Summer</td>\n",
       "      <td>Antwerpen</td>\n",
       "      <td>Football</td>\n",
       "      <td>Football Men's Football</td>\n",
       "      <td>NaN</td>\n",
       "    </tr>\n",
       "    <tr>\n",
       "      <th>3</th>\n",
       "      <td>4</td>\n",
       "      <td>Edgar Lindenau Aabye</td>\n",
       "      <td>M</td>\n",
       "      <td>34.0</td>\n",
       "      <td>NaN</td>\n",
       "      <td>NaN</td>\n",
       "      <td>Denmark/Sweden</td>\n",
       "      <td>DEN</td>\n",
       "      <td>1900 Summer</td>\n",
       "      <td>1900</td>\n",
       "      <td>Summer</td>\n",
       "      <td>Paris</td>\n",
       "      <td>Tug-Of-War</td>\n",
       "      <td>Tug-Of-War Men's Tug-Of-War</td>\n",
       "      <td>Gold</td>\n",
       "    </tr>\n",
       "    <tr>\n",
       "      <th>4</th>\n",
       "      <td>5</td>\n",
       "      <td>Christine Jacoba Aaftink</td>\n",
       "      <td>F</td>\n",
       "      <td>21.0</td>\n",
       "      <td>185.0</td>\n",
       "      <td>82.0</td>\n",
       "      <td>Netherlands</td>\n",
       "      <td>NED</td>\n",
       "      <td>1988 Winter</td>\n",
       "      <td>1988</td>\n",
       "      <td>Winter</td>\n",
       "      <td>Calgary</td>\n",
       "      <td>Speed Skating</td>\n",
       "      <td>Speed Skating Women's 500 metres</td>\n",
       "      <td>NaN</td>\n",
       "    </tr>\n",
       "  </tbody>\n",
       "</table>\n",
       "</div>"
      ],
      "text/plain": [
       "   ID                      Name Sex   Age  Height  Weight            Team  \\\n",
       "0   1                 A Dijiang   M  24.0   180.0    80.0           China   \n",
       "1   2                  A Lamusi   M  23.0   170.0    60.0           China   \n",
       "2   3       Gunnar Nielsen Aaby   M  24.0     NaN     NaN         Denmark   \n",
       "3   4      Edgar Lindenau Aabye   M  34.0     NaN     NaN  Denmark/Sweden   \n",
       "4   5  Christine Jacoba Aaftink   F  21.0   185.0    82.0     Netherlands   \n",
       "\n",
       "   NOC        Games  Year  Season       City          Sport  \\\n",
       "0  CHN  1992 Summer  1992  Summer  Barcelona     Basketball   \n",
       "1  CHN  2012 Summer  2012  Summer     London           Judo   \n",
       "2  DEN  1920 Summer  1920  Summer  Antwerpen       Football   \n",
       "3  DEN  1900 Summer  1900  Summer      Paris     Tug-Of-War   \n",
       "4  NED  1988 Winter  1988  Winter    Calgary  Speed Skating   \n",
       "\n",
       "                              Event Medal  \n",
       "0       Basketball Men's Basketball   NaN  \n",
       "1      Judo Men's Extra-Lightweight   NaN  \n",
       "2           Football Men's Football   NaN  \n",
       "3       Tug-Of-War Men's Tug-Of-War  Gold  \n",
       "4  Speed Skating Women's 500 metres   NaN  "
      ]
     },
     "execution_count": 2,
     "metadata": {},
     "output_type": "execute_result"
    }
   ],
   "source": [
    "# veriyi içe aktaralım\n",
    "veri = pd.read_csv(\"athlete_events.csv\")\n",
    "veri.head()"
   ]
  },
  {
   "cell_type": "code",
   "execution_count": 3,
   "id": "c95b3002",
   "metadata": {},
   "outputs": [
    {
     "name": "stdout",
     "output_type": "stream",
     "text": [
      "<class 'pandas.core.frame.DataFrame'>\n",
      "RangeIndex: 271116 entries, 0 to 271115\n",
      "Data columns (total 15 columns):\n",
      " #   Column  Non-Null Count   Dtype  \n",
      "---  ------  --------------   -----  \n",
      " 0   ID      271116 non-null  int64  \n",
      " 1   Name    271116 non-null  object \n",
      " 2   Sex     271116 non-null  object \n",
      " 3   Age     261642 non-null  float64\n",
      " 4   Height  210945 non-null  float64\n",
      " 5   Weight  208241 non-null  float64\n",
      " 6   Team    271116 non-null  object \n",
      " 7   NOC     271116 non-null  object \n",
      " 8   Games   271116 non-null  object \n",
      " 9   Year    271116 non-null  int64  \n",
      " 10  Season  271116 non-null  object \n",
      " 11  City    271116 non-null  object \n",
      " 12  Sport   271116 non-null  object \n",
      " 13  Event   271116 non-null  object \n",
      " 14  Medal   39783 non-null   object \n",
      "dtypes: float64(3), int64(2), object(10)\n",
      "memory usage: 31.0+ MB\n"
     ]
    }
   ],
   "source": [
    "veri.info()"
   ]
  },
  {
   "cell_type": "code",
   "execution_count": 4,
   "id": "188925b1",
   "metadata": {},
   "outputs": [
    {
     "data": {
      "text/plain": [
       "Index(['ID', 'Name', 'Sex', 'Age', 'Height', 'Weight', 'Team', 'NOC', 'Games',\n",
       "       'Year', 'Season', 'City', 'Sport', 'Event', 'Medal'],\n",
       "      dtype='object')"
      ]
     },
     "execution_count": 4,
     "metadata": {},
     "output_type": "execute_result"
    }
   ],
   "source": [
    "veri.columns"
   ]
  },
  {
   "cell_type": "code",
   "execution_count": 5,
   "id": "9708dc55",
   "metadata": {},
   "outputs": [
    {
     "data": {
      "text/html": [
       "<div>\n",
       "<style scoped>\n",
       "    .dataframe tbody tr th:only-of-type {\n",
       "        vertical-align: middle;\n",
       "    }\n",
       "\n",
       "    .dataframe tbody tr th {\n",
       "        vertical-align: top;\n",
       "    }\n",
       "\n",
       "    .dataframe thead th {\n",
       "        text-align: right;\n",
       "    }\n",
       "</style>\n",
       "<table border=\"1\" class=\"dataframe\">\n",
       "  <thead>\n",
       "    <tr style=\"text-align: right;\">\n",
       "      <th></th>\n",
       "      <th>id</th>\n",
       "      <th>isim</th>\n",
       "      <th>cinsiyet</th>\n",
       "      <th>yas</th>\n",
       "      <th>boy</th>\n",
       "      <th>kilo</th>\n",
       "      <th>takım</th>\n",
       "      <th>uok</th>\n",
       "      <th>oyunlar</th>\n",
       "      <th>yil</th>\n",
       "      <th>sezon</th>\n",
       "      <th>sehir</th>\n",
       "      <th>spor</th>\n",
       "      <th>etkinlik</th>\n",
       "      <th>madalya</th>\n",
       "    </tr>\n",
       "  </thead>\n",
       "  <tbody>\n",
       "    <tr>\n",
       "      <th>0</th>\n",
       "      <td>1</td>\n",
       "      <td>A Dijiang</td>\n",
       "      <td>M</td>\n",
       "      <td>24.0</td>\n",
       "      <td>180.0</td>\n",
       "      <td>80.0</td>\n",
       "      <td>China</td>\n",
       "      <td>CHN</td>\n",
       "      <td>1992 Summer</td>\n",
       "      <td>1992</td>\n",
       "      <td>Summer</td>\n",
       "      <td>Barcelona</td>\n",
       "      <td>Basketball</td>\n",
       "      <td>Basketball Men's Basketball</td>\n",
       "      <td>NaN</td>\n",
       "    </tr>\n",
       "    <tr>\n",
       "      <th>1</th>\n",
       "      <td>2</td>\n",
       "      <td>A Lamusi</td>\n",
       "      <td>M</td>\n",
       "      <td>23.0</td>\n",
       "      <td>170.0</td>\n",
       "      <td>60.0</td>\n",
       "      <td>China</td>\n",
       "      <td>CHN</td>\n",
       "      <td>2012 Summer</td>\n",
       "      <td>2012</td>\n",
       "      <td>Summer</td>\n",
       "      <td>London</td>\n",
       "      <td>Judo</td>\n",
       "      <td>Judo Men's Extra-Lightweight</td>\n",
       "      <td>NaN</td>\n",
       "    </tr>\n",
       "  </tbody>\n",
       "</table>\n",
       "</div>"
      ],
      "text/plain": [
       "   id       isim cinsiyet   yas    boy  kilo  takım  uok      oyunlar   yil  \\\n",
       "0   1  A Dijiang        M  24.0  180.0  80.0  China  CHN  1992 Summer  1992   \n",
       "1   2   A Lamusi        M  23.0  170.0  60.0  China  CHN  2012 Summer  2012   \n",
       "\n",
       "    sezon      sehir        spor                      etkinlik madalya  \n",
       "0  Summer  Barcelona  Basketball   Basketball Men's Basketball     NaN  \n",
       "1  Summer     London        Judo  Judo Men's Extra-Lightweight     NaN  "
      ]
     },
     "execution_count": 5,
     "metadata": {},
     "output_type": "execute_result"
    }
   ],
   "source": [
    "veri.rename(columns={'ID'    : 'id',\n",
    "                     'Name'  : 'isim',\n",
    "                     'Sex'   : 'cinsiyet',\n",
    "                     'Age'   : 'yas',\n",
    "                     'Height': 'boy',\n",
    "                     'Weight': 'kilo',\n",
    "                     'Team'  : 'takım',\n",
    "                     'NOC'   : 'uok',\n",
    "                     'Games' : 'oyunlar',\n",
    "                     'Year'  : 'yil',\n",
    "                     'Season': 'sezon',\n",
    "                     'City'  : 'sehir',\n",
    "                     'Sport' : 'spor',\n",
    "                     'Event' : 'etkinlik',\n",
    "                     'Medal' : 'madalya'}, inplace = True)\n",
    "veri.head(2)"
   ]
  },
  {
   "cell_type": "code",
   "execution_count": 6,
   "id": "7802048e",
   "metadata": {},
   "outputs": [
    {
     "data": {
      "text/html": [
       "<div>\n",
       "<style scoped>\n",
       "    .dataframe tbody tr th:only-of-type {\n",
       "        vertical-align: middle;\n",
       "    }\n",
       "\n",
       "    .dataframe tbody tr th {\n",
       "        vertical-align: top;\n",
       "    }\n",
       "\n",
       "    .dataframe thead th {\n",
       "        text-align: right;\n",
       "    }\n",
       "</style>\n",
       "<table border=\"1\" class=\"dataframe\">\n",
       "  <thead>\n",
       "    <tr style=\"text-align: right;\">\n",
       "      <th></th>\n",
       "      <th>isim</th>\n",
       "      <th>cinsiyet</th>\n",
       "      <th>yas</th>\n",
       "      <th>boy</th>\n",
       "      <th>kilo</th>\n",
       "      <th>takım</th>\n",
       "      <th>uok</th>\n",
       "      <th>yil</th>\n",
       "      <th>sezon</th>\n",
       "      <th>sehir</th>\n",
       "      <th>spor</th>\n",
       "      <th>etkinlik</th>\n",
       "      <th>madalya</th>\n",
       "    </tr>\n",
       "  </thead>\n",
       "  <tbody>\n",
       "    <tr>\n",
       "      <th>0</th>\n",
       "      <td>A Dijiang</td>\n",
       "      <td>M</td>\n",
       "      <td>24.0</td>\n",
       "      <td>180.0</td>\n",
       "      <td>80.0</td>\n",
       "      <td>China</td>\n",
       "      <td>CHN</td>\n",
       "      <td>1992</td>\n",
       "      <td>Summer</td>\n",
       "      <td>Barcelona</td>\n",
       "      <td>Basketball</td>\n",
       "      <td>Basketball Men's Basketball</td>\n",
       "      <td>NaN</td>\n",
       "    </tr>\n",
       "    <tr>\n",
       "      <th>1</th>\n",
       "      <td>A Lamusi</td>\n",
       "      <td>M</td>\n",
       "      <td>23.0</td>\n",
       "      <td>170.0</td>\n",
       "      <td>60.0</td>\n",
       "      <td>China</td>\n",
       "      <td>CHN</td>\n",
       "      <td>2012</td>\n",
       "      <td>Summer</td>\n",
       "      <td>London</td>\n",
       "      <td>Judo</td>\n",
       "      <td>Judo Men's Extra-Lightweight</td>\n",
       "      <td>NaN</td>\n",
       "    </tr>\n",
       "  </tbody>\n",
       "</table>\n",
       "</div>"
      ],
      "text/plain": [
       "        isim cinsiyet   yas    boy  kilo  takım  uok   yil   sezon      sehir  \\\n",
       "0  A Dijiang        M  24.0  180.0  80.0  China  CHN  1992  Summer  Barcelona   \n",
       "1   A Lamusi        M  23.0  170.0  60.0  China  CHN  2012  Summer     London   \n",
       "\n",
       "         spor                      etkinlik madalya  \n",
       "0  Basketball   Basketball Men's Basketball     NaN  \n",
       "1        Judo  Judo Men's Extra-Lightweight     NaN  "
      ]
     },
     "execution_count": 6,
     "metadata": {},
     "output_type": "execute_result"
    }
   ],
   "source": [
    "# YARARSIZ VERİLERİN ÇIKARTILMASI\n",
    "# drop fonksiyonu ile id ve oyunlar sütunlarını çıkartalım\n",
    "veri = veri.drop([\"id\",\"oyunlar\"], axis = 1) #axis =1 1 sütun manasında\n",
    "veri.head(2)"
   ]
  },
  {
   "cell_type": "code",
   "execution_count": 7,
   "id": "7ea73b32",
   "metadata": {},
   "outputs": [
    {
     "data": {
      "text/html": [
       "<div>\n",
       "<style scoped>\n",
       "    .dataframe tbody tr th:only-of-type {\n",
       "        vertical-align: middle;\n",
       "    }\n",
       "\n",
       "    .dataframe tbody tr th {\n",
       "        vertical-align: top;\n",
       "    }\n",
       "\n",
       "    .dataframe thead th {\n",
       "        text-align: right;\n",
       "    }\n",
       "</style>\n",
       "<table border=\"1\" class=\"dataframe\">\n",
       "  <thead>\n",
       "    <tr style=\"text-align: right;\">\n",
       "      <th></th>\n",
       "      <th>isim</th>\n",
       "      <th>cinsiyet</th>\n",
       "      <th>yas</th>\n",
       "      <th>boy</th>\n",
       "      <th>kilo</th>\n",
       "      <th>takım</th>\n",
       "      <th>uok</th>\n",
       "      <th>yil</th>\n",
       "      <th>sezon</th>\n",
       "      <th>sehir</th>\n",
       "      <th>spor</th>\n",
       "      <th>etkinlik</th>\n",
       "      <th>madalya</th>\n",
       "    </tr>\n",
       "  </thead>\n",
       "  <tbody>\n",
       "    <tr>\n",
       "      <th>0</th>\n",
       "      <td>A Dijiang</td>\n",
       "      <td>M</td>\n",
       "      <td>24.0</td>\n",
       "      <td>180.0</td>\n",
       "      <td>80.0</td>\n",
       "      <td>China</td>\n",
       "      <td>CHN</td>\n",
       "      <td>1992</td>\n",
       "      <td>Summer</td>\n",
       "      <td>Barcelona</td>\n",
       "      <td>Basketball</td>\n",
       "      <td>Basketball Men's Basketball</td>\n",
       "      <td>NaN</td>\n",
       "    </tr>\n",
       "    <tr>\n",
       "      <th>1</th>\n",
       "      <td>A Lamusi</td>\n",
       "      <td>M</td>\n",
       "      <td>23.0</td>\n",
       "      <td>170.0</td>\n",
       "      <td>60.0</td>\n",
       "      <td>China</td>\n",
       "      <td>CHN</td>\n",
       "      <td>2012</td>\n",
       "      <td>Summer</td>\n",
       "      <td>London</td>\n",
       "      <td>Judo</td>\n",
       "      <td>Judo Men's Extra-Lightweight</td>\n",
       "      <td>NaN</td>\n",
       "    </tr>\n",
       "    <tr>\n",
       "      <th>2</th>\n",
       "      <td>Gunnar Nielsen Aaby</td>\n",
       "      <td>M</td>\n",
       "      <td>24.0</td>\n",
       "      <td>NaN</td>\n",
       "      <td>NaN</td>\n",
       "      <td>Denmark</td>\n",
       "      <td>DEN</td>\n",
       "      <td>1920</td>\n",
       "      <td>Summer</td>\n",
       "      <td>Antwerpen</td>\n",
       "      <td>Football</td>\n",
       "      <td>Football Men's Football</td>\n",
       "      <td>NaN</td>\n",
       "    </tr>\n",
       "    <tr>\n",
       "      <th>3</th>\n",
       "      <td>Edgar Lindenau Aabye</td>\n",
       "      <td>M</td>\n",
       "      <td>34.0</td>\n",
       "      <td>NaN</td>\n",
       "      <td>NaN</td>\n",
       "      <td>Denmark/Sweden</td>\n",
       "      <td>DEN</td>\n",
       "      <td>1900</td>\n",
       "      <td>Summer</td>\n",
       "      <td>Paris</td>\n",
       "      <td>Tug-Of-War</td>\n",
       "      <td>Tug-Of-War Men's Tug-Of-War</td>\n",
       "      <td>Gold</td>\n",
       "    </tr>\n",
       "    <tr>\n",
       "      <th>4</th>\n",
       "      <td>Christine Jacoba Aaftink</td>\n",
       "      <td>F</td>\n",
       "      <td>21.0</td>\n",
       "      <td>185.0</td>\n",
       "      <td>82.0</td>\n",
       "      <td>Netherlands</td>\n",
       "      <td>NED</td>\n",
       "      <td>1988</td>\n",
       "      <td>Winter</td>\n",
       "      <td>Calgary</td>\n",
       "      <td>Speed Skating</td>\n",
       "      <td>Speed Skating Women's 500 metres</td>\n",
       "      <td>NaN</td>\n",
       "    </tr>\n",
       "  </tbody>\n",
       "</table>\n",
       "</div>"
      ],
      "text/plain": [
       "                       isim cinsiyet   yas    boy  kilo           takım  uok  \\\n",
       "0                 A Dijiang        M  24.0  180.0  80.0           China  CHN   \n",
       "1                  A Lamusi        M  23.0  170.0  60.0           China  CHN   \n",
       "2       Gunnar Nielsen Aaby        M  24.0    NaN   NaN         Denmark  DEN   \n",
       "3      Edgar Lindenau Aabye        M  34.0    NaN   NaN  Denmark/Sweden  DEN   \n",
       "4  Christine Jacoba Aaftink        F  21.0  185.0  82.0     Netherlands  NED   \n",
       "\n",
       "    yil   sezon      sehir           spor                          etkinlik  \\\n",
       "0  1992  Summer  Barcelona     Basketball       Basketball Men's Basketball   \n",
       "1  2012  Summer     London           Judo      Judo Men's Extra-Lightweight   \n",
       "2  1920  Summer  Antwerpen       Football           Football Men's Football   \n",
       "3  1900  Summer      Paris     Tug-Of-War       Tug-Of-War Men's Tug-Of-War   \n",
       "4  1988  Winter    Calgary  Speed Skating  Speed Skating Women's 500 metres   \n",
       "\n",
       "  madalya  \n",
       "0     NaN  \n",
       "1     NaN  \n",
       "2     NaN  \n",
       "3    Gold  \n",
       "4     NaN  "
      ]
     },
     "execution_count": 7,
     "metadata": {},
     "output_type": "execute_result"
    }
   ],
   "source": [
    "#KAYIP VERİ SORUNU\n",
    "veri.head()"
   ]
  },
  {
   "cell_type": "code",
   "execution_count": 8,
   "id": "2a40fd7e",
   "metadata": {},
   "outputs": [
    {
     "name": "stdout",
     "output_type": "stream",
     "text": [
      "Eşsiz Etkinlik Sayısı: 765\n"
     ]
    },
    {
     "data": {
      "text/plain": [
       "array([\"Basketball Men's Basketball\", \"Judo Men's Extra-Lightweight\",\n",
       "       \"Football Men's Football\", \"Tug-Of-War Men's Tug-Of-War\",\n",
       "       \"Speed Skating Women's 500 metres\",\n",
       "       \"Speed Skating Women's 1,000 metres\",\n",
       "       \"Cross Country Skiing Men's 10 kilometres\",\n",
       "       \"Cross Country Skiing Men's 50 kilometres\",\n",
       "       \"Cross Country Skiing Men's 10/15 kilometres Pursuit\",\n",
       "       \"Cross Country Skiing Men's 4 x 10 kilometres Relay\"], dtype=object)"
      ]
     },
     "execution_count": 8,
     "metadata": {},
     "output_type": "execute_result"
    }
   ],
   "source": [
    "# Boy ve kilo sütunu kayıp veri bulma\n",
    "essiz_etkinlik = pd.unique(veri.etkinlik)\n",
    "print(\"Eşsiz Etkinlik Sayısı: {}\".format(len(essiz_etkinlik)))\n",
    "essiz_etkinlik[:10]"
   ]
  },
  {
   "cell_type": "code",
   "execution_count": 9,
   "id": "dd7e36ad",
   "metadata": {},
   "outputs": [
    {
     "name": "stdout",
     "output_type": "stream",
     "text": [
      "<class 'pandas.core.frame.DataFrame'>\n",
      "RangeIndex: 271116 entries, 0 to 271115\n",
      "Data columns (total 13 columns):\n",
      " #   Column    Non-Null Count   Dtype  \n",
      "---  ------    --------------   -----  \n",
      " 0   isim      271116 non-null  object \n",
      " 1   cinsiyet  271116 non-null  object \n",
      " 2   yas       261642 non-null  float64\n",
      " 3   boy       269033 non-null  float64\n",
      " 4   kilo      266456 non-null  float64\n",
      " 5   takım     271116 non-null  object \n",
      " 6   uok       271116 non-null  object \n",
      " 7   yil       271116 non-null  int64  \n",
      " 8   sezon     271116 non-null  object \n",
      " 9   sehir     271116 non-null  object \n",
      " 10  spor      271116 non-null  object \n",
      " 11  etkinlik  271116 non-null  object \n",
      " 12  madalya   39783 non-null   object \n",
      "dtypes: float64(3), int64(1), object(9)\n",
      "memory usage: 26.9+ MB\n"
     ]
    }
   ],
   "source": [
    "# her bir etkinliği iteratif olarak dolaş\n",
    "# etkinlik özelinde boy ve kilo ortalamalarını hesapla\n",
    "# etkinlik özelinde kayıp boy ve kilo değerlerini etkinlik ortalamalarına eşitle\n",
    "\n",
    "veri_gecici = veri.copy() # gerçek veriyi korumak için\n",
    "boy_kilo_liste = [\"boy\", \"kilo\"]\n",
    "\n",
    "for e in essiz_etkinlik: #liste içerisinde dolaş\n",
    "    \n",
    "    #etkinlik filtresi oluşturalım\n",
    "    etkinlik_filtre = veri_gecici.etkinlik == e\n",
    "    # veriyi etkinliğe göre filtreyelim\n",
    "    veri_filtreli = veri_gecici[etkinlik_filtre]\n",
    "    \n",
    "    # boy ve kilo için etkinlik özelinde ortalamaları hesaplayalım\n",
    "    for s in boy_kilo_liste:\n",
    "        ortalama = np.round(np.mean(veri_filtreli[s]),2)\n",
    "        if ~np.isnan(ortalama): #eğer etkinlik özelinde ortalama varsa\n",
    "            veri_filtreli[s] = veri_filtreli[s].fillna(ortalama)\n",
    "        else: # etkinlik özelinde ortalama varsa ortalamayı hesapla\n",
    "            tum_veri_ortalamasi = np.round(np.mean(veri[s]),2)\n",
    "    # etkinlik özelinde kayıp değerleri doldurmuş olan veriyi, veri_gecici ye aktarıyoruz\n",
    "    veri_gecici[etkinlik_filtre] = veri_filtreli\n",
    "    \n",
    "# kayıp değerleri giderilmiş olan geöici veriyi gerçek veriye eşitleyelim\n",
    "veri = veri_gecici.copy()\n",
    "veri.info() # boy ve kilo sütunlarında kayıp değer sayısına bakalım"
   ]
  },
  {
   "cell_type": "markdown",
   "id": "90270454",
   "metadata": {},
   "source": [
    "# Yaş sütunu kayıp veri doldurma"
   ]
  },
  {
   "cell_type": "code",
   "execution_count": 10,
   "id": "190a2780",
   "metadata": {},
   "outputs": [
    {
     "name": "stdout",
     "output_type": "stream",
     "text": [
      "Yaş ortalaması: 25.56\n",
      "<class 'pandas.core.frame.DataFrame'>\n",
      "RangeIndex: 271116 entries, 0 to 271115\n",
      "Data columns (total 13 columns):\n",
      " #   Column    Non-Null Count   Dtype  \n",
      "---  ------    --------------   -----  \n",
      " 0   isim      271116 non-null  object \n",
      " 1   cinsiyet  271116 non-null  object \n",
      " 2   yas       271116 non-null  float64\n",
      " 3   boy       269033 non-null  float64\n",
      " 4   kilo      266456 non-null  float64\n",
      " 5   takım     271116 non-null  object \n",
      " 6   uok       271116 non-null  object \n",
      " 7   yil       271116 non-null  int64  \n",
      " 8   sezon     271116 non-null  object \n",
      " 9   sehir     271116 non-null  object \n",
      " 10  spor      271116 non-null  object \n",
      " 11  etkinlik  271116 non-null  object \n",
      " 12  madalya   39783 non-null   object \n",
      "dtypes: float64(3), int64(1), object(9)\n",
      "memory usage: 26.9+ MB\n"
     ]
    }
   ],
   "source": [
    "# yaş değişkeninde tanımlı olmayan değerleri bulalım\n",
    "\n",
    "yas_ortalamasi = np.round(np.mean(veri.yas),2)\n",
    "print('Yaş ortalaması: {}'.format(yas_ortalamasi))\n",
    "veri['yas'] = veri['yas'].fillna(yas_ortalamasi)\n",
    "veri.info()"
   ]
  },
  {
   "cell_type": "markdown",
   "id": "d3ac4a63",
   "metadata": {},
   "source": [
    "# Madalya alamayan oyuncuları listeden çıkart"
   ]
  },
  {
   "cell_type": "code",
   "execution_count": 11,
   "id": "70be0291",
   "metadata": {},
   "outputs": [
    {
     "data": {
      "text/plain": [
       "231333"
      ]
     },
     "execution_count": 11,
     "metadata": {},
     "output_type": "execute_result"
    }
   ],
   "source": [
    "madalya_degiskeni = veri[\"madalya\"]\n",
    "pd.isnull(madalya_degiskeni).sum()"
   ]
  },
  {
   "cell_type": "code",
   "execution_count": 12,
   "id": "9c02ccad",
   "metadata": {},
   "outputs": [],
   "source": [
    "madalya_degiskeni_filtresi = ~pd.isnull(madalya_degiskeni)"
   ]
  },
  {
   "cell_type": "code",
   "execution_count": 13,
   "id": "2c2a3607",
   "metadata": {},
   "outputs": [
    {
     "data": {
      "text/html": [
       "<div>\n",
       "<style scoped>\n",
       "    .dataframe tbody tr th:only-of-type {\n",
       "        vertical-align: middle;\n",
       "    }\n",
       "\n",
       "    .dataframe tbody tr th {\n",
       "        vertical-align: top;\n",
       "    }\n",
       "\n",
       "    .dataframe thead th {\n",
       "        text-align: right;\n",
       "    }\n",
       "</style>\n",
       "<table border=\"1\" class=\"dataframe\">\n",
       "  <thead>\n",
       "    <tr style=\"text-align: right;\">\n",
       "      <th></th>\n",
       "      <th>isim</th>\n",
       "      <th>cinsiyet</th>\n",
       "      <th>yas</th>\n",
       "      <th>boy</th>\n",
       "      <th>kilo</th>\n",
       "      <th>takım</th>\n",
       "      <th>uok</th>\n",
       "      <th>yil</th>\n",
       "      <th>sezon</th>\n",
       "      <th>sehir</th>\n",
       "      <th>spor</th>\n",
       "      <th>etkinlik</th>\n",
       "      <th>madalya</th>\n",
       "    </tr>\n",
       "  </thead>\n",
       "  <tbody>\n",
       "    <tr>\n",
       "      <th>3</th>\n",
       "      <td>Edgar Lindenau Aabye</td>\n",
       "      <td>M</td>\n",
       "      <td>34.0</td>\n",
       "      <td>182.48</td>\n",
       "      <td>95.62</td>\n",
       "      <td>Denmark/Sweden</td>\n",
       "      <td>DEN</td>\n",
       "      <td>1900</td>\n",
       "      <td>Summer</td>\n",
       "      <td>Paris</td>\n",
       "      <td>Tug-Of-War</td>\n",
       "      <td>Tug-Of-War Men's Tug-Of-War</td>\n",
       "      <td>Gold</td>\n",
       "    </tr>\n",
       "    <tr>\n",
       "      <th>37</th>\n",
       "      <td>Arvo Ossian Aaltonen</td>\n",
       "      <td>M</td>\n",
       "      <td>30.0</td>\n",
       "      <td>182.01</td>\n",
       "      <td>76.69</td>\n",
       "      <td>Finland</td>\n",
       "      <td>FIN</td>\n",
       "      <td>1920</td>\n",
       "      <td>Summer</td>\n",
       "      <td>Antwerpen</td>\n",
       "      <td>Swimming</td>\n",
       "      <td>Swimming Men's 200 metres Breaststroke</td>\n",
       "      <td>Bronze</td>\n",
       "    </tr>\n",
       "    <tr>\n",
       "      <th>38</th>\n",
       "      <td>Arvo Ossian Aaltonen</td>\n",
       "      <td>M</td>\n",
       "      <td>30.0</td>\n",
       "      <td>177.00</td>\n",
       "      <td>75.00</td>\n",
       "      <td>Finland</td>\n",
       "      <td>FIN</td>\n",
       "      <td>1920</td>\n",
       "      <td>Summer</td>\n",
       "      <td>Antwerpen</td>\n",
       "      <td>Swimming</td>\n",
       "      <td>Swimming Men's 400 metres Breaststroke</td>\n",
       "      <td>Bronze</td>\n",
       "    </tr>\n",
       "    <tr>\n",
       "      <th>40</th>\n",
       "      <td>Juhamatti Tapio Aaltonen</td>\n",
       "      <td>M</td>\n",
       "      <td>28.0</td>\n",
       "      <td>184.00</td>\n",
       "      <td>85.00</td>\n",
       "      <td>Finland</td>\n",
       "      <td>FIN</td>\n",
       "      <td>2014</td>\n",
       "      <td>Winter</td>\n",
       "      <td>Sochi</td>\n",
       "      <td>Ice Hockey</td>\n",
       "      <td>Ice Hockey Men's Ice Hockey</td>\n",
       "      <td>Bronze</td>\n",
       "    </tr>\n",
       "    <tr>\n",
       "      <th>41</th>\n",
       "      <td>Paavo Johannes Aaltonen</td>\n",
       "      <td>M</td>\n",
       "      <td>28.0</td>\n",
       "      <td>175.00</td>\n",
       "      <td>64.00</td>\n",
       "      <td>Finland</td>\n",
       "      <td>FIN</td>\n",
       "      <td>1948</td>\n",
       "      <td>Summer</td>\n",
       "      <td>London</td>\n",
       "      <td>Gymnastics</td>\n",
       "      <td>Gymnastics Men's Individual All-Around</td>\n",
       "      <td>Bronze</td>\n",
       "    </tr>\n",
       "  </tbody>\n",
       "</table>\n",
       "</div>"
      ],
      "text/plain": [
       "                        isim cinsiyet   yas     boy   kilo           takım  \\\n",
       "3       Edgar Lindenau Aabye        M  34.0  182.48  95.62  Denmark/Sweden   \n",
       "37      Arvo Ossian Aaltonen        M  30.0  182.01  76.69         Finland   \n",
       "38      Arvo Ossian Aaltonen        M  30.0  177.00  75.00         Finland   \n",
       "40  Juhamatti Tapio Aaltonen        M  28.0  184.00  85.00         Finland   \n",
       "41   Paavo Johannes Aaltonen        M  28.0  175.00  64.00         Finland   \n",
       "\n",
       "    uok   yil   sezon      sehir        spor  \\\n",
       "3   DEN  1900  Summer      Paris  Tug-Of-War   \n",
       "37  FIN  1920  Summer  Antwerpen    Swimming   \n",
       "38  FIN  1920  Summer  Antwerpen    Swimming   \n",
       "40  FIN  2014  Winter      Sochi  Ice Hockey   \n",
       "41  FIN  1948  Summer     London  Gymnastics   \n",
       "\n",
       "                                  etkinlik madalya  \n",
       "3              Tug-Of-War Men's Tug-Of-War    Gold  \n",
       "37  Swimming Men's 200 metres Breaststroke  Bronze  \n",
       "38  Swimming Men's 400 metres Breaststroke  Bronze  \n",
       "40             Ice Hockey Men's Ice Hockey  Bronze  \n",
       "41  Gymnastics Men's Individual All-Around  Bronze  "
      ]
     },
     "execution_count": 13,
     "metadata": {},
     "output_type": "execute_result"
    }
   ],
   "source": [
    "veri = veri[madalya_degiskeni_filtresi]\n",
    "veri.head(5)"
   ]
  },
  {
   "cell_type": "code",
   "execution_count": 14,
   "id": "c877d624",
   "metadata": {},
   "outputs": [
    {
     "name": "stdout",
     "output_type": "stream",
     "text": [
      "<class 'pandas.core.frame.DataFrame'>\n",
      "Int64Index: 39783 entries, 3 to 271103\n",
      "Data columns (total 13 columns):\n",
      " #   Column    Non-Null Count  Dtype  \n",
      "---  ------    --------------  -----  \n",
      " 0   isim      39783 non-null  object \n",
      " 1   cinsiyet  39783 non-null  object \n",
      " 2   yas       39783 non-null  float64\n",
      " 3   boy       39044 non-null  float64\n",
      " 4   kilo      38292 non-null  float64\n",
      " 5   takım     39783 non-null  object \n",
      " 6   uok       39783 non-null  object \n",
      " 7   yil       39783 non-null  int64  \n",
      " 8   sezon     39783 non-null  object \n",
      " 9   sehir     39783 non-null  object \n",
      " 10  spor      39783 non-null  object \n",
      " 11  etkinlik  39783 non-null  object \n",
      " 12  madalya   39783 non-null  object \n",
      "dtypes: float64(3), int64(1), object(9)\n",
      "memory usage: 4.2+ MB\n"
     ]
    }
   ],
   "source": [
    "veri.info()"
   ]
  },
  {
   "cell_type": "markdown",
   "id": "cfabfc1d",
   "metadata": {},
   "source": [
    "# Sayısal Değişkenler"
   ]
  },
  {
   "cell_type": "code",
   "execution_count": 15,
   "id": "2e589458",
   "metadata": {},
   "outputs": [],
   "source": [
    "# temizlenmiş data ile devam ediyor\n",
    "# histogram grafikleri çizimi\n",
    "def plotHistogram(degisken):\n",
    "    # girdi: degisken/sütun ismi\n",
    "    # çıktı: ilgili değişkenin histogramı\n",
    "    plt.figure()\n",
    "    plt.hist(veri[degisken], bins = 85, color = \"orange\")\n",
    "    plt.xlabel(degisken)\n",
    "    plt.ylabel(\"Frekans\")\n",
    "    plt.title(\"Veri Sıklığı - {}\".format(degisken))\n",
    "    plt.show()"
   ]
  },
  {
   "cell_type": "code",
   "execution_count": 16,
   "id": "fa29b5bd",
   "metadata": {},
   "outputs": [
    {
     "data": {
      "image/png": "[encoded data removed]",
      "text/plain": [
       "<Figure size 432x288 with 1 Axes>"
      ]
     },
     "metadata": {
      "needs_background": "light"
     },
     "output_type": "display_data"
    },
    {
     "data": {
      "image/png": "[encoded data removed]",
      "text/plain": [
       "<Figure size 432x288 with 1 Axes>"
      ]
     },
     "metadata": {
      "needs_background": "light"
     },
     "output_type": "display_data"
    },
    {
     "data": {
      "image/png": "[encoded data removed]",
      "text/plain": [
       "<Figure size 432x288 with 1 Axes>"
      ]
     },
     "metadata": {
      "needs_background": "light"
     },
     "output_type": "display_data"
    },
    {
     "data": {
      "image/png": "[encoded data removed]",
      "text/plain": [
       "<Figure size 432x288 with 1 Axes>"
      ]
     },
     "metadata": {
      "needs_background": "light"
     },
     "output_type": "display_data"
    }
   ],
   "source": [
    "# tüm sayısal değşkenler için histogram çizdirelim\n",
    "sayisal_degisken = [\"yas\", \"boy\", \"kilo\", \"yil\"]\n",
    "for i in sayisal_degisken:\n",
    "    plotHistogram(i)"
   ]
  },
  {
   "cell_type": "code",
   "execution_count": 17,
   "id": "66f66472",
   "metadata": {},
   "outputs": [
    {
     "data": {
      "text/html": [
       "<div>\n",
       "<style scoped>\n",
       "    .dataframe tbody tr th:only-of-type {\n",
       "        vertical-align: middle;\n",
       "    }\n",
       "\n",
       "    .dataframe tbody tr th {\n",
       "        vertical-align: top;\n",
       "    }\n",
       "\n",
       "    .dataframe thead th {\n",
       "        text-align: right;\n",
       "    }\n",
       "</style>\n",
       "<table border=\"1\" class=\"dataframe\">\n",
       "  <thead>\n",
       "    <tr style=\"text-align: right;\">\n",
       "      <th></th>\n",
       "      <th>yas</th>\n",
       "      <th>boy</th>\n",
       "      <th>kilo</th>\n",
       "      <th>yil</th>\n",
       "    </tr>\n",
       "  </thead>\n",
       "  <tbody>\n",
       "    <tr>\n",
       "      <th>count</th>\n",
       "      <td>39783.000000</td>\n",
       "      <td>39044.000000</td>\n",
       "      <td>38292.000000</td>\n",
       "      <td>39783.000000</td>\n",
       "    </tr>\n",
       "    <tr>\n",
       "      <th>mean</th>\n",
       "      <td>25.918456</td>\n",
       "      <td>177.374482</td>\n",
       "      <td>73.856625</td>\n",
       "      <td>1973.943845</td>\n",
       "    </tr>\n",
       "    <tr>\n",
       "      <th>std</th>\n",
       "      <td>5.859569</td>\n",
       "      <td>10.262177</td>\n",
       "      <td>14.235494</td>\n",
       "      <td>33.822857</td>\n",
       "    </tr>\n",
       "    <tr>\n",
       "      <th>min</th>\n",
       "      <td>10.000000</td>\n",
       "      <td>136.000000</td>\n",
       "      <td>28.000000</td>\n",
       "      <td>1896.000000</td>\n",
       "    </tr>\n",
       "    <tr>\n",
       "      <th>25%</th>\n",
       "      <td>22.000000</td>\n",
       "      <td>170.000000</td>\n",
       "      <td>64.000000</td>\n",
       "      <td>1952.000000</td>\n",
       "    </tr>\n",
       "    <tr>\n",
       "      <th>50%</th>\n",
       "      <td>25.000000</td>\n",
       "      <td>177.480000</td>\n",
       "      <td>73.090000</td>\n",
       "      <td>1984.000000</td>\n",
       "    </tr>\n",
       "    <tr>\n",
       "      <th>75%</th>\n",
       "      <td>29.000000</td>\n",
       "      <td>184.000000</td>\n",
       "      <td>82.000000</td>\n",
       "      <td>2002.000000</td>\n",
       "    </tr>\n",
       "    <tr>\n",
       "      <th>max</th>\n",
       "      <td>73.000000</td>\n",
       "      <td>223.000000</td>\n",
       "      <td>182.000000</td>\n",
       "      <td>2016.000000</td>\n",
       "    </tr>\n",
       "  </tbody>\n",
       "</table>\n",
       "</div>"
      ],
      "text/plain": [
       "                yas           boy          kilo           yil\n",
       "count  39783.000000  39044.000000  38292.000000  39783.000000\n",
       "mean      25.918456    177.374482     73.856625   1973.943845\n",
       "std        5.859569     10.262177     14.235494     33.822857\n",
       "min       10.000000    136.000000     28.000000   1896.000000\n",
       "25%       22.000000    170.000000     64.000000   1952.000000\n",
       "50%       25.000000    177.480000     73.090000   1984.000000\n",
       "75%       29.000000    184.000000     82.000000   2002.000000\n",
       "max       73.000000    223.000000    182.000000   2016.000000"
      ]
     },
     "execution_count": 17,
     "metadata": {},
     "output_type": "execute_result"
    }
   ],
   "source": [
    "veri.describe()"
   ]
  },
  {
   "cell_type": "code",
   "execution_count": 18,
   "id": "883a913c",
   "metadata": {},
   "outputs": [
    {
     "data": {
      "image/png": "[encoded data removed]",
      "text/plain": [
       "<Figure size 432x288 with 1 Axes>"
      ]
     },
     "metadata": {
      "needs_background": "light"
     },
     "output_type": "display_data"
    }
   ],
   "source": [
    "plt.boxplot(veri.yas)\n",
    "plt.title(\"Yaş Değişkeni İçin Kutu Grafiği\")\n",
    "plt.xlabel(\"yas\")\n",
    "plt.ylabel(\"Değer\")\n",
    "plt.show()"
   ]
  },
  {
   "cell_type": "markdown",
   "id": "cf86d5e2",
   "metadata": {},
   "source": [
    "# Kategorik Değişkenler"
   ]
  },
  {
   "cell_type": "code",
   "execution_count": 19,
   "id": "069ed22e",
   "metadata": {},
   "outputs": [],
   "source": [
    "# çubuk grafiğini çizdirdiğimiz metodlar\n",
    "def plotBar(degisken, n = 5):\n",
    "    # girdi: degisken/sütun  , n: gösterilecek eşsiz değer sayısı\n",
    "    # çıktı: çubuk grafiği\n",
    "    veri_ = veri[degisken]\n",
    "    veri_sayma = veri_.value_counts()\n",
    "    veri_sayma = veri_sayma[:n]\n",
    "    plt.figure()\n",
    "    plt.bar(veri_sayma.index, veri_sayma, color = \"orange\")\n",
    "    plt.xticks(veri_sayma.index, veri_sayma.index.values)\n",
    "    plt.xticks(rotation = 45) # 45 derece açı ile durmasını istiyoruz\n",
    "    plt.ylabel(\"Frekans\")\n",
    "    plt.title(\"Veri Sıklığı - {}\".format(degisken))\n",
    "    plt.show()\n",
    "    print('{}: \\n {}'.format(degisken, veri_sayma))"
   ]
  },
  {
   "cell_type": "code",
   "execution_count": 20,
   "id": "8cde82c5",
   "metadata": {},
   "outputs": [
    {
     "data": {
      "image/png": "[encoded data removed]",
      "text/plain": [
       "<Figure size 432x288 with 1 Axes>"
      ]
     },
     "metadata": {
      "needs_background": "light"
     },
     "output_type": "display_data"
    },
    {
     "name": "stdout",
     "output_type": "stream",
     "text": [
      "isim: \n",
      " Michael Fred Phelps, II               28\n",
      "Larysa Semenivna Latynina (Diriy-)    18\n",
      "Nikolay Yefimovich Andrianov          15\n",
      "Ole Einar Bjrndalen                   13\n",
      "Edoardo Mangiarotti                   13\n",
      "Name: isim, dtype: int64\n"
     ]
    },
    {
     "data": {
      "image/png": "[encoded data removed]",
      "text/plain": [
       "<Figure size 432x288 with 1 Axes>"
      ]
     },
     "metadata": {
      "needs_background": "light"
     },
     "output_type": "display_data"
    },
    {
     "name": "stdout",
     "output_type": "stream",
     "text": [
      "cinsiyet: \n",
      " M    28530\n",
      "F    11253\n",
      "Name: cinsiyet, dtype: int64\n"
     ]
    },
    {
     "data": {
      "image/png": "[encoded data removed]",
      "text/plain": [
       "<Figure size 432x288 with 1 Axes>"
      ]
     },
     "metadata": {
      "needs_background": "light"
     },
     "output_type": "display_data"
    },
    {
     "name": "stdout",
     "output_type": "stream",
     "text": [
      "takım: \n",
      " United States    5219\n",
      "Soviet Union     2451\n",
      "Germany          1984\n",
      "Great Britain    1673\n",
      "France           1550\n",
      "Name: takım, dtype: int64\n"
     ]
    },
    {
     "data": {
      "image/png": "[encoded data removed]",
      "text/plain": [
       "<Figure size 432x288 with 1 Axes>"
      ]
     },
     "metadata": {
      "needs_background": "light"
     },
     "output_type": "display_data"
    },
    {
     "name": "stdout",
     "output_type": "stream",
     "text": [
      "uok: \n",
      " USA    5637\n",
      "URS    2503\n",
      "GER    2165\n",
      "GBR    2068\n",
      "FRA    1777\n",
      "Name: uok, dtype: int64\n"
     ]
    },
    {
     "data": {
      "image/png": "[encoded data removed]",
      "text/plain": [
       "<Figure size 432x288 with 1 Axes>"
      ]
     },
     "metadata": {
      "needs_background": "light"
     },
     "output_type": "display_data"
    },
    {
     "name": "stdout",
     "output_type": "stream",
     "text": [
      "sezon: \n",
      " Summer    34088\n",
      "Winter     5695\n",
      "Name: sezon, dtype: int64\n"
     ]
    },
    {
     "data": {
      "image/png": "[encoded data removed]",
      "text/plain": [
       "<Figure size 432x288 with 1 Axes>"
      ]
     },
     "metadata": {
      "needs_background": "light"
     },
     "output_type": "display_data"
    },
    {
     "name": "stdout",
     "output_type": "stream",
     "text": [
      "sehir: \n",
      " London            3624\n",
      "Athina            2602\n",
      "Los Angeles       2123\n",
      "Beijing           2048\n",
      "Rio de Janeiro    2023\n",
      "Name: sehir, dtype: int64\n"
     ]
    },
    {
     "data": {
      "image/png": "[encoded data removed]",
      "text/plain": [
       "<Figure size 432x288 with 1 Axes>"
      ]
     },
     "metadata": {
      "needs_background": "light"
     },
     "output_type": "display_data"
    },
    {
     "name": "stdout",
     "output_type": "stream",
     "text": [
      "spor: \n",
      " Athletics     3969\n",
      "Swimming      3048\n",
      "Rowing        2945\n",
      "Gymnastics    2256\n",
      "Fencing       1743\n",
      "Name: spor, dtype: int64\n"
     ]
    },
    {
     "data": {
      "image/png": "[encoded data removed]",
      "text/plain": [
       "<Figure size 432x288 with 1 Axes>"
      ]
     },
     "metadata": {
      "needs_background": "light"
     },
     "output_type": "display_data"
    },
    {
     "name": "stdout",
     "output_type": "stream",
     "text": [
      "etkinlik: \n",
      " Football Men's Football        1269\n",
      "Ice Hockey Men's Ice Hockey    1230\n",
      "Hockey Men's Hockey            1050\n",
      "Water Polo Men's Water Polo     866\n",
      "Rowing Men's Coxed Eights       730\n",
      "Name: etkinlik, dtype: int64\n"
     ]
    },
    {
     "data": {
      "image/png": "[encoded data removed]",
      "text/plain": [
       "<Figure size 432x288 with 1 Axes>"
      ]
     },
     "metadata": {
      "needs_background": "light"
     },
     "output_type": "display_data"
    },
    {
     "name": "stdout",
     "output_type": "stream",
     "text": [
      "madalya: \n",
      " Gold      13372\n",
      "Bronze    13295\n",
      "Silver    13116\n",
      "Name: madalya, dtype: int64\n"
     ]
    }
   ],
   "source": [
    "kategorik_degisken = [\"isim\", \"cinsiyet\", \"takım\", \"uok\", \"sezon\", \"sehir\", \"spor\", \"etkinlik\", \"madalya\"]\n",
    "for i in kategorik_degisken:\n",
    "    plotBar(i)"
   ]
  },
  {
   "cell_type": "markdown",
   "id": "fb88c341",
   "metadata": {},
   "source": [
    "# İki değişkenli karşılaştırma"
   ]
  },
  {
   "cell_type": "markdown",
   "id": "3b00f1c9",
   "metadata": {},
   "source": [
    "Cinsiyete göre boy ve ağırlık karşılaştırması"
   ]
  },
  {
   "cell_type": "code",
   "execution_count": 21,
   "id": "a3df3ce6",
   "metadata": {},
   "outputs": [
    {
     "data": {
      "text/html": [
       "<div>\n",
       "<style scoped>\n",
       "    .dataframe tbody tr th:only-of-type {\n",
       "        vertical-align: middle;\n",
       "    }\n",
       "\n",
       "    .dataframe tbody tr th {\n",
       "        vertical-align: top;\n",
       "    }\n",
       "\n",
       "    .dataframe thead th {\n",
       "        text-align: right;\n",
       "    }\n",
       "</style>\n",
       "<table border=\"1\" class=\"dataframe\">\n",
       "  <thead>\n",
       "    <tr style=\"text-align: right;\">\n",
       "      <th></th>\n",
       "      <th>isim</th>\n",
       "      <th>cinsiyet</th>\n",
       "      <th>yas</th>\n",
       "      <th>boy</th>\n",
       "      <th>kilo</th>\n",
       "      <th>takım</th>\n",
       "      <th>uok</th>\n",
       "      <th>yil</th>\n",
       "      <th>sezon</th>\n",
       "      <th>sehir</th>\n",
       "      <th>spor</th>\n",
       "      <th>etkinlik</th>\n",
       "      <th>madalya</th>\n",
       "    </tr>\n",
       "  </thead>\n",
       "  <tbody>\n",
       "    <tr>\n",
       "      <th>3</th>\n",
       "      <td>Edgar Lindenau Aabye</td>\n",
       "      <td>M</td>\n",
       "      <td>34.0</td>\n",
       "      <td>182.48</td>\n",
       "      <td>95.62</td>\n",
       "      <td>Denmark/Sweden</td>\n",
       "      <td>DEN</td>\n",
       "      <td>1900</td>\n",
       "      <td>Summer</td>\n",
       "      <td>Paris</td>\n",
       "      <td>Tug-Of-War</td>\n",
       "      <td>Tug-Of-War Men's Tug-Of-War</td>\n",
       "      <td>Gold</td>\n",
       "    </tr>\n",
       "    <tr>\n",
       "      <th>37</th>\n",
       "      <td>Arvo Ossian Aaltonen</td>\n",
       "      <td>M</td>\n",
       "      <td>30.0</td>\n",
       "      <td>182.01</td>\n",
       "      <td>76.69</td>\n",
       "      <td>Finland</td>\n",
       "      <td>FIN</td>\n",
       "      <td>1920</td>\n",
       "      <td>Summer</td>\n",
       "      <td>Antwerpen</td>\n",
       "      <td>Swimming</td>\n",
       "      <td>Swimming Men's 200 metres Breaststroke</td>\n",
       "      <td>Bronze</td>\n",
       "    </tr>\n",
       "    <tr>\n",
       "      <th>38</th>\n",
       "      <td>Arvo Ossian Aaltonen</td>\n",
       "      <td>M</td>\n",
       "      <td>30.0</td>\n",
       "      <td>177.00</td>\n",
       "      <td>75.00</td>\n",
       "      <td>Finland</td>\n",
       "      <td>FIN</td>\n",
       "      <td>1920</td>\n",
       "      <td>Summer</td>\n",
       "      <td>Antwerpen</td>\n",
       "      <td>Swimming</td>\n",
       "      <td>Swimming Men's 400 metres Breaststroke</td>\n",
       "      <td>Bronze</td>\n",
       "    </tr>\n",
       "  </tbody>\n",
       "</table>\n",
       "</div>"
      ],
      "text/plain": [
       "                    isim cinsiyet   yas     boy   kilo           takım  uok  \\\n",
       "3   Edgar Lindenau Aabye        M  34.0  182.48  95.62  Denmark/Sweden  DEN   \n",
       "37  Arvo Ossian Aaltonen        M  30.0  182.01  76.69         Finland  FIN   \n",
       "38  Arvo Ossian Aaltonen        M  30.0  177.00  75.00         Finland  FIN   \n",
       "\n",
       "     yil   sezon      sehir        spor  \\\n",
       "3   1900  Summer      Paris  Tug-Of-War   \n",
       "37  1920  Summer  Antwerpen    Swimming   \n",
       "38  1920  Summer  Antwerpen    Swimming   \n",
       "\n",
       "                                  etkinlik madalya  \n",
       "3              Tug-Of-War Men's Tug-Of-War    Gold  \n",
       "37  Swimming Men's 200 metres Breaststroke  Bronze  \n",
       "38  Swimming Men's 400 metres Breaststroke  Bronze  "
      ]
     },
     "execution_count": 21,
     "metadata": {},
     "output_type": "execute_result"
    }
   ],
   "source": [
    "erkek = veri[veri.cinsiyet == \"M\"]\n",
    "erkek.head(3)"
   ]
  },
  {
   "cell_type": "code",
   "execution_count": 22,
   "id": "13e28661",
   "metadata": {},
   "outputs": [
    {
     "data": {
      "text/html": [
       "<div>\n",
       "<style scoped>\n",
       "    .dataframe tbody tr th:only-of-type {\n",
       "        vertical-align: middle;\n",
       "    }\n",
       "\n",
       "    .dataframe tbody tr th {\n",
       "        vertical-align: top;\n",
       "    }\n",
       "\n",
       "    .dataframe thead th {\n",
       "        text-align: right;\n",
       "    }\n",
       "</style>\n",
       "<table border=\"1\" class=\"dataframe\">\n",
       "  <thead>\n",
       "    <tr style=\"text-align: right;\">\n",
       "      <th></th>\n",
       "      <th>isim</th>\n",
       "      <th>cinsiyet</th>\n",
       "      <th>yas</th>\n",
       "      <th>boy</th>\n",
       "      <th>kilo</th>\n",
       "      <th>takım</th>\n",
       "      <th>uok</th>\n",
       "      <th>yil</th>\n",
       "      <th>sezon</th>\n",
       "      <th>sehir</th>\n",
       "      <th>spor</th>\n",
       "      <th>etkinlik</th>\n",
       "      <th>madalya</th>\n",
       "    </tr>\n",
       "  </thead>\n",
       "  <tbody>\n",
       "    <tr>\n",
       "      <th>79</th>\n",
       "      <td>Ragnhild Margrethe Aamodt</td>\n",
       "      <td>F</td>\n",
       "      <td>27.0</td>\n",
       "      <td>163.00</td>\n",
       "      <td>68.88</td>\n",
       "      <td>Norway</td>\n",
       "      <td>NOR</td>\n",
       "      <td>2008</td>\n",
       "      <td>Summer</td>\n",
       "      <td>Beijing</td>\n",
       "      <td>Handball</td>\n",
       "      <td>Handball Women's Handball</td>\n",
       "      <td>Gold</td>\n",
       "    </tr>\n",
       "    <tr>\n",
       "      <th>91</th>\n",
       "      <td>Willemien Aardenburg</td>\n",
       "      <td>F</td>\n",
       "      <td>22.0</td>\n",
       "      <td>166.13</td>\n",
       "      <td>60.53</td>\n",
       "      <td>Netherlands</td>\n",
       "      <td>NED</td>\n",
       "      <td>1988</td>\n",
       "      <td>Summer</td>\n",
       "      <td>Seoul</td>\n",
       "      <td>Hockey</td>\n",
       "      <td>Hockey Women's Hockey</td>\n",
       "      <td>Bronze</td>\n",
       "    </tr>\n",
       "    <tr>\n",
       "      <th>105</th>\n",
       "      <td>Ann Kristin Aarnes</td>\n",
       "      <td>F</td>\n",
       "      <td>23.0</td>\n",
       "      <td>182.00</td>\n",
       "      <td>64.00</td>\n",
       "      <td>Norway</td>\n",
       "      <td>NOR</td>\n",
       "      <td>1996</td>\n",
       "      <td>Summer</td>\n",
       "      <td>Atlanta</td>\n",
       "      <td>Football</td>\n",
       "      <td>Football Women's Football</td>\n",
       "      <td>Bronze</td>\n",
       "    </tr>\n",
       "  </tbody>\n",
       "</table>\n",
       "</div>"
      ],
      "text/plain": [
       "                          isim cinsiyet   yas     boy   kilo        takım  \\\n",
       "79   Ragnhild Margrethe Aamodt        F  27.0  163.00  68.88       Norway   \n",
       "91        Willemien Aardenburg        F  22.0  166.13  60.53  Netherlands   \n",
       "105         Ann Kristin Aarnes        F  23.0  182.00  64.00       Norway   \n",
       "\n",
       "     uok   yil   sezon    sehir      spor                   etkinlik madalya  \n",
       "79   NOR  2008  Summer  Beijing  Handball  Handball Women's Handball    Gold  \n",
       "91   NED  1988  Summer    Seoul    Hockey      Hockey Women's Hockey  Bronze  \n",
       "105  NOR  1996  Summer  Atlanta  Football  Football Women's Football  Bronze  "
      ]
     },
     "execution_count": 22,
     "metadata": {},
     "output_type": "execute_result"
    }
   ],
   "source": [
    "kadin = veri[veri.cinsiyet == \"F\"]\n",
    "kadin.head(3)"
   ]
  },
  {
   "cell_type": "code",
   "execution_count": 23,
   "id": "f062a1f1",
   "metadata": {},
   "outputs": [
    {
     "data": {
      "image/png": "[encoded data removed]",
      "text/plain": [
       "<Figure size 432x288 with 1 Axes>"
      ]
     },
     "metadata": {
      "needs_background": "light"
     },
     "output_type": "display_data"
    }
   ],
   "source": [
    "plt.figure()\n",
    "plt.scatter(kadin.boy, kadin.kilo, alpha = 0.4, label = \"Kadın\", color = \"red\") # alpha transparanlığı belirliyor\n",
    "plt.scatter(erkek.boy, erkek.kilo, alpha = 0.4, label = \"Erkek\", color = \"blue\")\n",
    "plt.xlabel(\"Boy\")\n",
    "plt.ylabel(\"Kilo\")\n",
    "plt.title(\"Boy ve Kilo Arasındaki İlişki\")\n",
    "plt.legend()\n",
    "plt.show()"
   ]
  },
  {
   "cell_type": "code",
   "execution_count": 24,
   "id": "576c41db",
   "metadata": {},
   "outputs": [
    {
     "data": {
      "text/html": [
       "<div>\n",
       "<style scoped>\n",
       "    .dataframe tbody tr th:only-of-type {\n",
       "        vertical-align: middle;\n",
       "    }\n",
       "\n",
       "    .dataframe tbody tr th {\n",
       "        vertical-align: top;\n",
       "    }\n",
       "\n",
       "    .dataframe thead th {\n",
       "        text-align: right;\n",
       "    }\n",
       "</style>\n",
       "<table border=\"1\" class=\"dataframe\">\n",
       "  <thead>\n",
       "    <tr style=\"text-align: right;\">\n",
       "      <th></th>\n",
       "      <th>yas</th>\n",
       "      <th>boy</th>\n",
       "      <th>kilo</th>\n",
       "    </tr>\n",
       "  </thead>\n",
       "  <tbody>\n",
       "    <tr>\n",
       "      <th>yas</th>\n",
       "      <td>1.000000</td>\n",
       "      <td>0.068016</td>\n",
       "      <td>0.161037</td>\n",
       "    </tr>\n",
       "    <tr>\n",
       "      <th>boy</th>\n",
       "      <td>0.068016</td>\n",
       "      <td>1.000000</td>\n",
       "      <td>0.795367</td>\n",
       "    </tr>\n",
       "    <tr>\n",
       "      <th>kilo</th>\n",
       "      <td>0.161037</td>\n",
       "      <td>0.795367</td>\n",
       "      <td>1.000000</td>\n",
       "    </tr>\n",
       "  </tbody>\n",
       "</table>\n",
       "</div>"
      ],
      "text/plain": [
       "           yas       boy      kilo\n",
       "yas   1.000000  0.068016  0.161037\n",
       "boy   0.068016  1.000000  0.795367\n",
       "kilo  0.161037  0.795367  1.000000"
      ]
     },
     "execution_count": 24,
     "metadata": {},
     "output_type": "execute_result"
    }
   ],
   "source": [
    "veri.loc[:, ['yas', 'boy', 'kilo']].corr() # korrelasyon tablosu"
   ]
  },
  {
   "cell_type": "markdown",
   "id": "19670022",
   "metadata": {},
   "source": [
    "Madalya ve yaş arasındaki ilişki"
   ]
  },
  {
   "cell_type": "code",
   "execution_count": 25,
   "id": "8cb73ee0",
   "metadata": {},
   "outputs": [
    {
     "data": {
      "text/html": [
       "<div>\n",
       "<style scoped>\n",
       "    .dataframe tbody tr th:only-of-type {\n",
       "        vertical-align: middle;\n",
       "    }\n",
       "\n",
       "    .dataframe tbody tr th {\n",
       "        vertical-align: top;\n",
       "    }\n",
       "\n",
       "    .dataframe thead th {\n",
       "        text-align: right;\n",
       "    }\n",
       "</style>\n",
       "<table border=\"1\" class=\"dataframe\">\n",
       "  <thead>\n",
       "    <tr style=\"text-align: right;\">\n",
       "      <th></th>\n",
       "      <th>isim</th>\n",
       "      <th>cinsiyet</th>\n",
       "      <th>yas</th>\n",
       "      <th>boy</th>\n",
       "      <th>kilo</th>\n",
       "      <th>takım</th>\n",
       "      <th>uok</th>\n",
       "      <th>yil</th>\n",
       "      <th>sezon</th>\n",
       "      <th>sehir</th>\n",
       "      <th>spor</th>\n",
       "      <th>etkinlik</th>\n",
       "      <th>madalya_Bronze</th>\n",
       "      <th>madalya_Gold</th>\n",
       "      <th>madalya_Silver</th>\n",
       "    </tr>\n",
       "  </thead>\n",
       "  <tbody>\n",
       "    <tr>\n",
       "      <th>3</th>\n",
       "      <td>Edgar Lindenau Aabye</td>\n",
       "      <td>M</td>\n",
       "      <td>34.0</td>\n",
       "      <td>182.48</td>\n",
       "      <td>95.62</td>\n",
       "      <td>Denmark/Sweden</td>\n",
       "      <td>DEN</td>\n",
       "      <td>1900</td>\n",
       "      <td>Summer</td>\n",
       "      <td>Paris</td>\n",
       "      <td>Tug-Of-War</td>\n",
       "      <td>Tug-Of-War Men's Tug-Of-War</td>\n",
       "      <td>0</td>\n",
       "      <td>1</td>\n",
       "      <td>0</td>\n",
       "    </tr>\n",
       "    <tr>\n",
       "      <th>37</th>\n",
       "      <td>Arvo Ossian Aaltonen</td>\n",
       "      <td>M</td>\n",
       "      <td>30.0</td>\n",
       "      <td>182.01</td>\n",
       "      <td>76.69</td>\n",
       "      <td>Finland</td>\n",
       "      <td>FIN</td>\n",
       "      <td>1920</td>\n",
       "      <td>Summer</td>\n",
       "      <td>Antwerpen</td>\n",
       "      <td>Swimming</td>\n",
       "      <td>Swimming Men's 200 metres Breaststroke</td>\n",
       "      <td>1</td>\n",
       "      <td>0</td>\n",
       "      <td>0</td>\n",
       "    </tr>\n",
       "  </tbody>\n",
       "</table>\n",
       "</div>"
      ],
      "text/plain": [
       "                    isim cinsiyet   yas     boy   kilo           takım  uok  \\\n",
       "3   Edgar Lindenau Aabye        M  34.0  182.48  95.62  Denmark/Sweden  DEN   \n",
       "37  Arvo Ossian Aaltonen        M  30.0  182.01  76.69         Finland  FIN   \n",
       "\n",
       "     yil   sezon      sehir        spor  \\\n",
       "3   1900  Summer      Paris  Tug-Of-War   \n",
       "37  1920  Summer  Antwerpen    Swimming   \n",
       "\n",
       "                                  etkinlik  madalya_Bronze  madalya_Gold  \\\n",
       "3              Tug-Of-War Men's Tug-Of-War               0             1   \n",
       "37  Swimming Men's 200 metres Breaststroke               1             0   \n",
       "\n",
       "    madalya_Silver  \n",
       "3                0  \n",
       "37               0  "
      ]
     },
     "execution_count": 25,
     "metadata": {},
     "output_type": "execute_result"
    }
   ],
   "source": [
    "veri_gecici = veri.copy()\n",
    "veri_gecici = pd.get_dummies(veri_gecici, columns = ['madalya'])\n",
    "veri_gecici.head(2)"
   ]
  },
  {
   "cell_type": "markdown",
   "id": "e9501f1a",
   "metadata": {},
   "source": [
    "get_dummies fonksiyonu madalya sütunundaki başlıklara göre alınan madalya sayılarını belirlememizi sağladı"
   ]
  },
  {
   "cell_type": "code",
   "execution_count": 26,
   "id": "712805aa",
   "metadata": {},
   "outputs": [
    {
     "data": {
      "text/html": [
       "<div>\n",
       "<style scoped>\n",
       "    .dataframe tbody tr th:only-of-type {\n",
       "        vertical-align: middle;\n",
       "    }\n",
       "\n",
       "    .dataframe tbody tr th {\n",
       "        vertical-align: top;\n",
       "    }\n",
       "\n",
       "    .dataframe thead th {\n",
       "        text-align: right;\n",
       "    }\n",
       "</style>\n",
       "<table border=\"1\" class=\"dataframe\">\n",
       "  <thead>\n",
       "    <tr style=\"text-align: right;\">\n",
       "      <th></th>\n",
       "      <th>yas</th>\n",
       "      <th>madalya_Bronze</th>\n",
       "      <th>madalya_Gold</th>\n",
       "      <th>madalya_Silver</th>\n",
       "    </tr>\n",
       "  </thead>\n",
       "  <tbody>\n",
       "    <tr>\n",
       "      <th>yas</th>\n",
       "      <td>1.000000</td>\n",
       "      <td>-0.005584</td>\n",
       "      <td>-0.002576</td>\n",
       "      <td>0.008192</td>\n",
       "    </tr>\n",
       "    <tr>\n",
       "      <th>madalya_Bronze</th>\n",
       "      <td>-0.005584</td>\n",
       "      <td>1.000000</td>\n",
       "      <td>-0.504110</td>\n",
       "      <td>-0.496859</td>\n",
       "    </tr>\n",
       "    <tr>\n",
       "      <th>madalya_Gold</th>\n",
       "      <td>-0.002576</td>\n",
       "      <td>-0.504110</td>\n",
       "      <td>1.000000</td>\n",
       "      <td>-0.499022</td>\n",
       "    </tr>\n",
       "    <tr>\n",
       "      <th>madalya_Silver</th>\n",
       "      <td>0.008192</td>\n",
       "      <td>-0.496859</td>\n",
       "      <td>-0.499022</td>\n",
       "      <td>1.000000</td>\n",
       "    </tr>\n",
       "  </tbody>\n",
       "</table>\n",
       "</div>"
      ],
      "text/plain": [
       "                     yas  madalya_Bronze  madalya_Gold  madalya_Silver\n",
       "yas             1.000000       -0.005584     -0.002576        0.008192\n",
       "madalya_Bronze -0.005584        1.000000     -0.504110       -0.496859\n",
       "madalya_Gold   -0.002576       -0.504110      1.000000       -0.499022\n",
       "madalya_Silver  0.008192       -0.496859     -0.499022        1.000000"
      ]
     },
     "execution_count": 26,
     "metadata": {},
     "output_type": "execute_result"
    }
   ],
   "source": [
    "veri_gecici.loc[:, ['yas', 'madalya_Bronze', 'madalya_Gold', 'madalya_Silver']].corr()"
   ]
  },
  {
   "cell_type": "markdown",
   "id": "49410391",
   "metadata": {},
   "source": [
    "Takımların kazandığı altın, gümüş, ve bronz madalya sayıları"
   ]
  },
  {
   "cell_type": "code",
   "execution_count": 27,
   "id": "a2317a2d",
   "metadata": {},
   "outputs": [
    {
     "data": {
      "text/html": [
       "<div>\n",
       "<style scoped>\n",
       "    .dataframe tbody tr th:only-of-type {\n",
       "        vertical-align: middle;\n",
       "    }\n",
       "\n",
       "    .dataframe tbody tr th {\n",
       "        vertical-align: top;\n",
       "    }\n",
       "\n",
       "    .dataframe thead th {\n",
       "        text-align: right;\n",
       "    }\n",
       "</style>\n",
       "<table border=\"1\" class=\"dataframe\">\n",
       "  <thead>\n",
       "    <tr style=\"text-align: right;\">\n",
       "      <th></th>\n",
       "      <th>takım</th>\n",
       "      <th>madalya_Bronze</th>\n",
       "      <th>madalya_Gold</th>\n",
       "      <th>madalya_Silver</th>\n",
       "    </tr>\n",
       "  </thead>\n",
       "  <tbody>\n",
       "    <tr>\n",
       "      <th>462</th>\n",
       "      <td>United States</td>\n",
       "      <td>1233.0</td>\n",
       "      <td>2474.0</td>\n",
       "      <td>1512.0</td>\n",
       "    </tr>\n",
       "    <tr>\n",
       "      <th>403</th>\n",
       "      <td>Soviet Union</td>\n",
       "      <td>677.0</td>\n",
       "      <td>1058.0</td>\n",
       "      <td>716.0</td>\n",
       "    </tr>\n",
       "    <tr>\n",
       "      <th>165</th>\n",
       "      <td>Germany</td>\n",
       "      <td>678.0</td>\n",
       "      <td>679.0</td>\n",
       "      <td>627.0</td>\n",
       "    </tr>\n",
       "    <tr>\n",
       "      <th>215</th>\n",
       "      <td>Italy</td>\n",
       "      <td>484.0</td>\n",
       "      <td>535.0</td>\n",
       "      <td>508.0</td>\n",
       "    </tr>\n",
       "    <tr>\n",
       "      <th>171</th>\n",
       "      <td>Great Britain</td>\n",
       "      <td>572.0</td>\n",
       "      <td>519.0</td>\n",
       "      <td>582.0</td>\n",
       "    </tr>\n",
       "    <tr>\n",
       "      <th>149</th>\n",
       "      <td>France</td>\n",
       "      <td>577.0</td>\n",
       "      <td>455.0</td>\n",
       "      <td>518.0</td>\n",
       "    </tr>\n",
       "    <tr>\n",
       "      <th>420</th>\n",
       "      <td>Sweden</td>\n",
       "      <td>507.0</td>\n",
       "      <td>451.0</td>\n",
       "      <td>476.0</td>\n",
       "    </tr>\n",
       "    <tr>\n",
       "      <th>198</th>\n",
       "      <td>Hungary</td>\n",
       "      <td>365.0</td>\n",
       "      <td>432.0</td>\n",
       "      <td>330.0</td>\n",
       "    </tr>\n",
       "    <tr>\n",
       "      <th>67</th>\n",
       "      <td>Canada</td>\n",
       "      <td>408.0</td>\n",
       "      <td>422.0</td>\n",
       "      <td>413.0</td>\n",
       "    </tr>\n",
       "    <tr>\n",
       "      <th>117</th>\n",
       "      <td>East Germany</td>\n",
       "      <td>263.0</td>\n",
       "      <td>369.0</td>\n",
       "      <td>309.0</td>\n",
       "    </tr>\n",
       "  </tbody>\n",
       "</table>\n",
       "</div>"
      ],
      "text/plain": [
       "             takım  madalya_Bronze  madalya_Gold  madalya_Silver\n",
       "462  United States          1233.0        2474.0          1512.0\n",
       "403   Soviet Union           677.0        1058.0           716.0\n",
       "165        Germany           678.0         679.0           627.0\n",
       "215          Italy           484.0         535.0           508.0\n",
       "171  Great Britain           572.0         519.0           582.0\n",
       "149         France           577.0         455.0           518.0\n",
       "420         Sweden           507.0         451.0           476.0\n",
       "198        Hungary           365.0         432.0           330.0\n",
       "67          Canada           408.0         422.0           413.0\n",
       "117   East Germany           263.0         369.0           309.0"
      ]
     },
     "execution_count": 27,
     "metadata": {},
     "output_type": "execute_result"
    }
   ],
   "source": [
    "veri_gecici[['takım', 'madalya_Bronze', 'madalya_Gold', 'madalya_Silver']].groupby(['takım'], as_index = False).sum().sort_values(by = 'madalya_Gold', ascending = False)[:10]"
   ]
  },
  {
   "cell_type": "markdown",
   "id": "49719016",
   "metadata": {},
   "source": [
    "Kazanılan madalyaların hangi şehirde kazanıldığı"
   ]
  },
  {
   "cell_type": "code",
   "execution_count": 28,
   "id": "99cb1f9a",
   "metadata": {},
   "outputs": [
    {
     "data": {
      "text/html": [
       "<div>\n",
       "<style scoped>\n",
       "    .dataframe tbody tr th:only-of-type {\n",
       "        vertical-align: middle;\n",
       "    }\n",
       "\n",
       "    .dataframe tbody tr th {\n",
       "        vertical-align: top;\n",
       "    }\n",
       "\n",
       "    .dataframe thead th {\n",
       "        text-align: right;\n",
       "    }\n",
       "</style>\n",
       "<table border=\"1\" class=\"dataframe\">\n",
       "  <thead>\n",
       "    <tr style=\"text-align: right;\">\n",
       "      <th></th>\n",
       "      <th>sehir</th>\n",
       "      <th>madalya_Bronze</th>\n",
       "      <th>madalya_Gold</th>\n",
       "      <th>madalya_Silver</th>\n",
       "    </tr>\n",
       "  </thead>\n",
       "  <tbody>\n",
       "    <tr>\n",
       "      <th>17</th>\n",
       "      <td>London</td>\n",
       "      <td>1214.0</td>\n",
       "      <td>1215.0</td>\n",
       "      <td>1195.0</td>\n",
       "    </tr>\n",
       "    <tr>\n",
       "      <th>3</th>\n",
       "      <td>Athina</td>\n",
       "      <td>860.0</td>\n",
       "      <td>883.0</td>\n",
       "      <td>859.0</td>\n",
       "    </tr>\n",
       "    <tr>\n",
       "      <th>18</th>\n",
       "      <td>Los Angeles</td>\n",
       "      <td>706.0</td>\n",
       "      <td>726.0</td>\n",
       "      <td>691.0</td>\n",
       "    </tr>\n",
       "    <tr>\n",
       "      <th>6</th>\n",
       "      <td>Beijing</td>\n",
       "      <td>710.0</td>\n",
       "      <td>671.0</td>\n",
       "      <td>667.0</td>\n",
       "    </tr>\n",
       "    <tr>\n",
       "      <th>27</th>\n",
       "      <td>Rio de Janeiro</td>\n",
       "      <td>703.0</td>\n",
       "      <td>665.0</td>\n",
       "      <td>655.0</td>\n",
       "    </tr>\n",
       "    <tr>\n",
       "      <th>38</th>\n",
       "      <td>Sydney</td>\n",
       "      <td>680.0</td>\n",
       "      <td>663.0</td>\n",
       "      <td>661.0</td>\n",
       "    </tr>\n",
       "    <tr>\n",
       "      <th>4</th>\n",
       "      <td>Atlanta</td>\n",
       "      <td>629.0</td>\n",
       "      <td>608.0</td>\n",
       "      <td>605.0</td>\n",
       "    </tr>\n",
       "    <tr>\n",
       "      <th>5</th>\n",
       "      <td>Barcelona</td>\n",
       "      <td>604.0</td>\n",
       "      <td>559.0</td>\n",
       "      <td>549.0</td>\n",
       "    </tr>\n",
       "    <tr>\n",
       "      <th>33</th>\n",
       "      <td>Seoul</td>\n",
       "      <td>549.0</td>\n",
       "      <td>520.0</td>\n",
       "      <td>513.0</td>\n",
       "    </tr>\n",
       "    <tr>\n",
       "      <th>2</th>\n",
       "      <td>Antwerpen</td>\n",
       "      <td>367.0</td>\n",
       "      <td>493.0</td>\n",
       "      <td>448.0</td>\n",
       "    </tr>\n",
       "  </tbody>\n",
       "</table>\n",
       "</div>"
      ],
      "text/plain": [
       "             sehir  madalya_Bronze  madalya_Gold  madalya_Silver\n",
       "17          London          1214.0        1215.0          1195.0\n",
       "3           Athina           860.0         883.0           859.0\n",
       "18     Los Angeles           706.0         726.0           691.0\n",
       "6          Beijing           710.0         671.0           667.0\n",
       "27  Rio de Janeiro           703.0         665.0           655.0\n",
       "38          Sydney           680.0         663.0           661.0\n",
       "4          Atlanta           629.0         608.0           605.0\n",
       "5        Barcelona           604.0         559.0           549.0\n",
       "33           Seoul           549.0         520.0           513.0\n",
       "2        Antwerpen           367.0         493.0           448.0"
      ]
     },
     "execution_count": 28,
     "metadata": {},
     "output_type": "execute_result"
    }
   ],
   "source": [
    "veri_gecici[['sehir', 'madalya_Bronze', 'madalya_Gold', 'madalya_Silver']].groupby(['sehir'], as_index = False).sum().sort_values(by = 'madalya_Gold', ascending = False)[:10]"
   ]
  },
  {
   "cell_type": "markdown",
   "id": "24096b17",
   "metadata": {},
   "source": [
    "Cinsiyete göre alınan madalya türü"
   ]
  },
  {
   "cell_type": "code",
   "execution_count": 29,
   "id": "1cce628a",
   "metadata": {},
   "outputs": [
    {
     "data": {
      "text/html": [
       "<div>\n",
       "<style scoped>\n",
       "    .dataframe tbody tr th:only-of-type {\n",
       "        vertical-align: middle;\n",
       "    }\n",
       "\n",
       "    .dataframe tbody tr th {\n",
       "        vertical-align: top;\n",
       "    }\n",
       "\n",
       "    .dataframe thead th {\n",
       "        text-align: right;\n",
       "    }\n",
       "</style>\n",
       "<table border=\"1\" class=\"dataframe\">\n",
       "  <thead>\n",
       "    <tr style=\"text-align: right;\">\n",
       "      <th></th>\n",
       "      <th>cinsiyet</th>\n",
       "      <th>madalya_Bronze</th>\n",
       "      <th>madalya_Gold</th>\n",
       "      <th>madalya_Silver</th>\n",
       "    </tr>\n",
       "  </thead>\n",
       "  <tbody>\n",
       "    <tr>\n",
       "      <th>1</th>\n",
       "      <td>M</td>\n",
       "      <td>9524.0</td>\n",
       "      <td>9625.0</td>\n",
       "      <td>9381.0</td>\n",
       "    </tr>\n",
       "    <tr>\n",
       "      <th>0</th>\n",
       "      <td>F</td>\n",
       "      <td>3771.0</td>\n",
       "      <td>3747.0</td>\n",
       "      <td>3735.0</td>\n",
       "    </tr>\n",
       "  </tbody>\n",
       "</table>\n",
       "</div>"
      ],
      "text/plain": [
       "  cinsiyet  madalya_Bronze  madalya_Gold  madalya_Silver\n",
       "1        M          9524.0        9625.0          9381.0\n",
       "0        F          3771.0        3747.0          3735.0"
      ]
     },
     "execution_count": 29,
     "metadata": {},
     "output_type": "execute_result"
    }
   ],
   "source": [
    "veri_gecici[['cinsiyet', 'madalya_Bronze', 'madalya_Gold', 'madalya_Silver']].groupby(['cinsiyet'], as_index = False).sum().sort_values(by = 'madalya_Gold', ascending = False)[:10]"
   ]
  },
  {
   "cell_type": "markdown",
   "id": "a1c2d368",
   "metadata": {},
   "source": [
    "# Çok değişkenli veri analizi"
   ]
  },
  {
   "cell_type": "markdown",
   "id": "be2123c5",
   "metadata": {},
   "source": [
    "# # Pivot Tablosu"
   ]
  },
  {
   "cell_type": "code",
   "execution_count": 30,
   "id": "94e6c17f",
   "metadata": {},
   "outputs": [
    {
     "data": {
      "text/html": [
       "<div>\n",
       "<style scoped>\n",
       "    .dataframe tbody tr th:only-of-type {\n",
       "        vertical-align: middle;\n",
       "    }\n",
       "\n",
       "    .dataframe tbody tr th {\n",
       "        vertical-align: top;\n",
       "    }\n",
       "\n",
       "    .dataframe thead tr th {\n",
       "        text-align: left;\n",
       "    }\n",
       "\n",
       "    .dataframe thead tr:last-of-type th {\n",
       "        text-align: right;\n",
       "    }\n",
       "</style>\n",
       "<table border=\"1\" class=\"dataframe\">\n",
       "  <thead>\n",
       "    <tr>\n",
       "      <th></th>\n",
       "      <th colspan=\"2\" halign=\"left\">boy</th>\n",
       "      <th colspan=\"2\" halign=\"left\">kilo</th>\n",
       "      <th colspan=\"6\" halign=\"left\">yas</th>\n",
       "    </tr>\n",
       "    <tr>\n",
       "      <th></th>\n",
       "      <th colspan=\"2\" halign=\"left\">mean</th>\n",
       "      <th colspan=\"2\" halign=\"left\">mean</th>\n",
       "      <th colspan=\"2\" halign=\"left\">max</th>\n",
       "      <th colspan=\"2\" halign=\"left\">min</th>\n",
       "      <th colspan=\"2\" halign=\"left\">std</th>\n",
       "    </tr>\n",
       "    <tr>\n",
       "      <th>cinsiyet</th>\n",
       "      <th>F</th>\n",
       "      <th>M</th>\n",
       "      <th>F</th>\n",
       "      <th>M</th>\n",
       "      <th>F</th>\n",
       "      <th>M</th>\n",
       "      <th>F</th>\n",
       "      <th>M</th>\n",
       "      <th>F</th>\n",
       "      <th>M</th>\n",
       "    </tr>\n",
       "    <tr>\n",
       "      <th>madalya</th>\n",
       "      <th></th>\n",
       "      <th></th>\n",
       "      <th></th>\n",
       "      <th></th>\n",
       "      <th></th>\n",
       "      <th></th>\n",
       "      <th></th>\n",
       "      <th></th>\n",
       "      <th></th>\n",
       "      <th></th>\n",
       "    </tr>\n",
       "  </thead>\n",
       "  <tbody>\n",
       "    <tr>\n",
       "      <th>Bronze</th>\n",
       "      <td>169.989037</td>\n",
       "      <td>180.130306</td>\n",
       "      <td>62.729649</td>\n",
       "      <td>78.145614</td>\n",
       "      <td>69.0</td>\n",
       "      <td>72.0</td>\n",
       "      <td>12.0</td>\n",
       "      <td>10.0</td>\n",
       "      <td>5.329229</td>\n",
       "      <td>5.870340</td>\n",
       "    </tr>\n",
       "    <tr>\n",
       "      <th>Gold</th>\n",
       "      <td>170.429068</td>\n",
       "      <td>180.470283</td>\n",
       "      <td>63.161121</td>\n",
       "      <td>78.647238</td>\n",
       "      <td>63.0</td>\n",
       "      <td>64.0</td>\n",
       "      <td>13.0</td>\n",
       "      <td>13.0</td>\n",
       "      <td>5.219615</td>\n",
       "      <td>5.987807</td>\n",
       "    </tr>\n",
       "    <tr>\n",
       "      <th>Silver</th>\n",
       "      <td>170.222823</td>\n",
       "      <td>180.184804</td>\n",
       "      <td>62.839533</td>\n",
       "      <td>78.368811</td>\n",
       "      <td>55.0</td>\n",
       "      <td>73.0</td>\n",
       "      <td>11.0</td>\n",
       "      <td>13.0</td>\n",
       "      <td>5.253111</td>\n",
       "      <td>6.098221</td>\n",
       "    </tr>\n",
       "  </tbody>\n",
       "</table>\n",
       "</div>"
      ],
      "text/plain": [
       "                 boy                   kilo              yas              \\\n",
       "                mean                   mean              max         min   \n",
       "cinsiyet           F           M          F          M     F     M     F   \n",
       "madalya                                                                    \n",
       "Bronze    169.989037  180.130306  62.729649  78.145614  69.0  72.0  12.0   \n",
       "Gold      170.429068  180.470283  63.161121  78.647238  63.0  64.0  13.0   \n",
       "Silver    170.222823  180.184804  62.839533  78.368811  55.0  73.0  11.0   \n",
       "\n",
       "                                    \n",
       "                     std            \n",
       "cinsiyet     M         F         M  \n",
       "madalya                             \n",
       "Bronze    10.0  5.329229  5.870340  \n",
       "Gold      13.0  5.219615  5.987807  \n",
       "Silver    13.0  5.253111  6.098221  "
      ]
     },
     "execution_count": 30,
     "metadata": {},
     "output_type": "execute_result"
    }
   ],
   "source": [
    "veri_pivot = veri.pivot_table(index = 'madalya', columns = 'cinsiyet',\n",
    "                              values = ['boy', 'kilo', 'yas'],\n",
    "                              aggfunc = {'boy':np.mean, 'kilo':np.mean, 'yas':[min, max, np.std]})\n",
    "veri_pivot.head()"
   ]
  },
  {
   "cell_type": "markdown",
   "id": "b730cbf4",
   "metadata": {},
   "source": [
    "# Anomali Tespiti"
   ]
  },
  {
   "cell_type": "code",
   "execution_count": 31,
   "id": "d979b856",
   "metadata": {},
   "outputs": [],
   "source": [
    "def anomaliTespiti(df, ozellik):\n",
    "    outlier_indices = []\n",
    "    \n",
    "    for c in ozellik:\n",
    "        # 1. çeyrek\n",
    "        Q1 = np.percentile(df[c],25)\n",
    "        # 3. çeyrek\n",
    "        Q3 = np.percentile(df[c],75)\n",
    "        # IQR Inter quantile range (çeyrekler arası menzil)\n",
    "        IQR = Q3 - Q1\n",
    "        # aykırı değer için ek adım miktarı\n",
    "        outlier_step = 1.5 * IQR\n",
    "        # aykırı değeri ve bulunduğu indeksi tespit edelim\n",
    "        outlier_list_col = df[(df[c] < Q1 - outlier_step) | (df[c] > Q3 - outlier_step)].index\n",
    "        # tespit edilen indexleri depolayalım\n",
    "        outlier_indices.extend(outlier_list_col)\n",
    "        \n",
    "    # eşsiz aykırı değerleri bulalım \n",
    "    outlier_indices = Counter(outlier_indices)\n",
    "    # eğer bir özellik birkaç sütunda farklı ise buna aykırı değer diyelim\n",
    "    multiple_outliers = list(i for i, v in outlier_indices.items() if v > 2)\n",
    "    \n",
    "    return multiple_outliers"
   ]
  },
  {
   "cell_type": "code",
   "execution_count": 32,
   "id": "b4bdde3a",
   "metadata": {},
   "outputs": [
    {
     "data": {
      "text/plain": [
       "Series([], Name: spor, dtype: int64)"
      ]
     },
     "execution_count": 32,
     "metadata": {},
     "output_type": "execute_result"
    }
   ],
   "source": [
    "veri_anomali = veri.loc[anomaliTespiti(veri, ['yas', 'kilo', 'boy'])]\n",
    "veri_anomali.spor.value_counts()"
   ]
  },
  {
   "cell_type": "code",
   "execution_count": 33,
   "id": "059584d5",
   "metadata": {},
   "outputs": [
    {
     "data": {
      "image/png": "[encoded data removed]",
      "text/plain": [
       "<Figure size 432x288 with 1 Axes>"
      ]
     },
     "metadata": {
      "needs_background": "light"
     },
     "output_type": "display_data"
    }
   ],
   "source": [
    "plt.figure()\n",
    "plt.bar(veri_anomali.spor.value_counts().index, veri_anomali.spor.value_counts().values)\n",
    "plt.xticks(rotation = 30)\n",
    "plt.title(\"Anomaliye Rastlanan Spor Branşları\")\n",
    "plt.ylabel(\"Frekans\")\n",
    "plt.grid(True, alpha= 0.5)\n",
    "plt.show()"
   ]
  },
  {
   "cell_type": "code",
   "execution_count": 34,
   "id": "088af87c",
   "metadata": {},
   "outputs": [
    {
     "data": {
      "text/html": [
       "<div>\n",
       "<style scoped>\n",
       "    .dataframe tbody tr th:only-of-type {\n",
       "        vertical-align: middle;\n",
       "    }\n",
       "\n",
       "    .dataframe tbody tr th {\n",
       "        vertical-align: top;\n",
       "    }\n",
       "\n",
       "    .dataframe thead th {\n",
       "        text-align: right;\n",
       "    }\n",
       "</style>\n",
       "<table border=\"1\" class=\"dataframe\">\n",
       "  <thead>\n",
       "    <tr style=\"text-align: right;\">\n",
       "      <th></th>\n",
       "      <th>isim</th>\n",
       "      <th>cinsiyet</th>\n",
       "      <th>yas</th>\n",
       "      <th>boy</th>\n",
       "      <th>kilo</th>\n",
       "      <th>takım</th>\n",
       "      <th>uok</th>\n",
       "      <th>yil</th>\n",
       "      <th>sezon</th>\n",
       "      <th>sehir</th>\n",
       "      <th>spor</th>\n",
       "      <th>etkinlik</th>\n",
       "      <th>madalya</th>\n",
       "    </tr>\n",
       "  </thead>\n",
       "  <tbody>\n",
       "  </tbody>\n",
       "</table>\n",
       "</div>"
      ],
      "text/plain": [
       "Empty DataFrame\n",
       "Columns: [isim, cinsiyet, yas, boy, kilo, takım, uok, yil, sezon, sehir, spor, etkinlik, madalya]\n",
       "Index: []"
      ]
     },
     "execution_count": 34,
     "metadata": {},
     "output_type": "execute_result"
    }
   ],
   "source": [
    "veri_gym = veri_anomali[veri_anomali.spor == \"Gymnastics\"]\n",
    "veri_gym"
   ]
  },
  {
   "cell_type": "code",
   "execution_count": 35,
   "id": "94e0721f",
   "metadata": {},
   "outputs": [
    {
     "data": {
      "text/plain": [
       "Series([], Name: etkinlik, dtype: int64)"
      ]
     },
     "execution_count": 35,
     "metadata": {},
     "output_type": "execute_result"
    }
   ],
   "source": [
    "veri_gym.etkinlik.value_counts()"
   ]
  },
  {
   "cell_type": "code",
   "execution_count": 36,
   "id": "17c5c511",
   "metadata": {},
   "outputs": [
    {
     "data": {
      "text/html": [
       "<div>\n",
       "<style scoped>\n",
       "    .dataframe tbody tr th:only-of-type {\n",
       "        vertical-align: middle;\n",
       "    }\n",
       "\n",
       "    .dataframe tbody tr th {\n",
       "        vertical-align: top;\n",
       "    }\n",
       "\n",
       "    .dataframe thead th {\n",
       "        text-align: right;\n",
       "    }\n",
       "</style>\n",
       "<table border=\"1\" class=\"dataframe\">\n",
       "  <thead>\n",
       "    <tr style=\"text-align: right;\">\n",
       "      <th></th>\n",
       "      <th>isim</th>\n",
       "      <th>cinsiyet</th>\n",
       "      <th>yas</th>\n",
       "      <th>boy</th>\n",
       "      <th>kilo</th>\n",
       "      <th>takım</th>\n",
       "      <th>uok</th>\n",
       "      <th>yil</th>\n",
       "      <th>sezon</th>\n",
       "      <th>sehir</th>\n",
       "      <th>spor</th>\n",
       "      <th>etkinlik</th>\n",
       "      <th>madalya</th>\n",
       "    </tr>\n",
       "  </thead>\n",
       "  <tbody>\n",
       "  </tbody>\n",
       "</table>\n",
       "</div>"
      ],
      "text/plain": [
       "Empty DataFrame\n",
       "Columns: [isim, cinsiyet, yas, boy, kilo, takım, uok, yil, sezon, sehir, spor, etkinlik, madalya]\n",
       "Index: []"
      ]
     },
     "execution_count": 36,
     "metadata": {},
     "output_type": "execute_result"
    }
   ],
   "source": [
    "veri_basketbol = veri_anomali[veri_anomali.spor == \"Bastketball\"]\n",
    "veri_basketbol"
   ]
  },
  {
   "cell_type": "code",
   "execution_count": 37,
   "id": "827926d1",
   "metadata": {},
   "outputs": [
    {
     "data": {
      "text/plain": [
       "Series([], Name: etkinlik, dtype: int64)"
      ]
     },
     "execution_count": 37,
     "metadata": {},
     "output_type": "execute_result"
    }
   ],
   "source": [
    "veri_basketbol.etkinlik.value_counts()"
   ]
  },
  {
   "cell_type": "markdown",
   "id": "71c79d60",
   "metadata": {},
   "source": [
    "# Zaman Serilerinde Veri Analizi"
   ]
  },
  {
   "cell_type": "markdown",
   "id": "80753606",
   "metadata": {},
   "source": [
    "Yıllara göre ortalama yaş boy kilo değişimi"
   ]
  },
  {
   "cell_type": "code",
   "execution_count": 38,
   "id": "5db7433a",
   "metadata": {},
   "outputs": [
    {
     "data": {
      "text/html": [
       "<div>\n",
       "<style scoped>\n",
       "    .dataframe tbody tr th:only-of-type {\n",
       "        vertical-align: middle;\n",
       "    }\n",
       "\n",
       "    .dataframe tbody tr th {\n",
       "        vertical-align: top;\n",
       "    }\n",
       "\n",
       "    .dataframe thead th {\n",
       "        text-align: right;\n",
       "    }\n",
       "</style>\n",
       "<table border=\"1\" class=\"dataframe\">\n",
       "  <thead>\n",
       "    <tr style=\"text-align: right;\">\n",
       "      <th></th>\n",
       "      <th>isim</th>\n",
       "      <th>cinsiyet</th>\n",
       "      <th>yas</th>\n",
       "      <th>boy</th>\n",
       "      <th>kilo</th>\n",
       "      <th>takım</th>\n",
       "      <th>uok</th>\n",
       "      <th>yil</th>\n",
       "      <th>sezon</th>\n",
       "      <th>sehir</th>\n",
       "      <th>spor</th>\n",
       "      <th>etkinlik</th>\n",
       "      <th>madalya</th>\n",
       "    </tr>\n",
       "  </thead>\n",
       "  <tbody>\n",
       "    <tr>\n",
       "      <th>3</th>\n",
       "      <td>Edgar Lindenau Aabye</td>\n",
       "      <td>M</td>\n",
       "      <td>34.0</td>\n",
       "      <td>182.48</td>\n",
       "      <td>95.62</td>\n",
       "      <td>Denmark/Sweden</td>\n",
       "      <td>DEN</td>\n",
       "      <td>1900</td>\n",
       "      <td>Summer</td>\n",
       "      <td>Paris</td>\n",
       "      <td>Tug-Of-War</td>\n",
       "      <td>Tug-Of-War Men's Tug-Of-War</td>\n",
       "      <td>Gold</td>\n",
       "    </tr>\n",
       "    <tr>\n",
       "      <th>37</th>\n",
       "      <td>Arvo Ossian Aaltonen</td>\n",
       "      <td>M</td>\n",
       "      <td>30.0</td>\n",
       "      <td>182.01</td>\n",
       "      <td>76.69</td>\n",
       "      <td>Finland</td>\n",
       "      <td>FIN</td>\n",
       "      <td>1920</td>\n",
       "      <td>Summer</td>\n",
       "      <td>Antwerpen</td>\n",
       "      <td>Swimming</td>\n",
       "      <td>Swimming Men's 200 metres Breaststroke</td>\n",
       "      <td>Bronze</td>\n",
       "    </tr>\n",
       "    <tr>\n",
       "      <th>38</th>\n",
       "      <td>Arvo Ossian Aaltonen</td>\n",
       "      <td>M</td>\n",
       "      <td>30.0</td>\n",
       "      <td>177.00</td>\n",
       "      <td>75.00</td>\n",
       "      <td>Finland</td>\n",
       "      <td>FIN</td>\n",
       "      <td>1920</td>\n",
       "      <td>Summer</td>\n",
       "      <td>Antwerpen</td>\n",
       "      <td>Swimming</td>\n",
       "      <td>Swimming Men's 400 metres Breaststroke</td>\n",
       "      <td>Bronze</td>\n",
       "    </tr>\n",
       "  </tbody>\n",
       "</table>\n",
       "</div>"
      ],
      "text/plain": [
       "                    isim cinsiyet   yas     boy   kilo           takım  uok  \\\n",
       "3   Edgar Lindenau Aabye        M  34.0  182.48  95.62  Denmark/Sweden  DEN   \n",
       "37  Arvo Ossian Aaltonen        M  30.0  182.01  76.69         Finland  FIN   \n",
       "38  Arvo Ossian Aaltonen        M  30.0  177.00  75.00         Finland  FIN   \n",
       "\n",
       "     yil   sezon      sehir        spor  \\\n",
       "3   1900  Summer      Paris  Tug-Of-War   \n",
       "37  1920  Summer  Antwerpen    Swimming   \n",
       "38  1920  Summer  Antwerpen    Swimming   \n",
       "\n",
       "                                  etkinlik madalya  \n",
       "3              Tug-Of-War Men's Tug-Of-War    Gold  \n",
       "37  Swimming Men's 200 metres Breaststroke  Bronze  \n",
       "38  Swimming Men's 400 metres Breaststroke  Bronze  "
      ]
     },
     "execution_count": 38,
     "metadata": {},
     "output_type": "execute_result"
    }
   ],
   "source": [
    "veri_zaman = veri.copy()\n",
    "veri_zaman.head(3)"
   ]
  },
  {
   "cell_type": "code",
   "execution_count": 39,
   "id": "c551f76f",
   "metadata": {},
   "outputs": [
    {
     "data": {
      "text/plain": [
       "array([1900, 1920, 2014, 1948, 1952, 1992, 1994, 2002, 2006, 2008, 1988,\n",
       "       1996, 1960, 1912, 1956, 2016, 2012, 2000, 2004, 1980, 1984, 1936,\n",
       "       1906, 1964, 1972, 1924, 1904, 1932, 1928, 1968, 1976, 2010, 1908,\n",
       "       1998, 1896], dtype=int64)"
      ]
     },
     "execution_count": 39,
     "metadata": {},
     "output_type": "execute_result"
    }
   ],
   "source": [
    "essiz_yillar = veri_zaman.yil.unique()\n",
    "essiz_yillar"
   ]
  },
  {
   "cell_type": "code",
   "execution_count": 40,
   "id": "feafb126",
   "metadata": {},
   "outputs": [
    {
     "data": {
      "text/plain": [
       "array([1896, 1900, 1904, 1906, 1908, 1912, 1920, 1924, 1928, 1932, 1936,\n",
       "       1948, 1952, 1956, 1960, 1964, 1968, 1972, 1976, 1980, 1984, 1988,\n",
       "       1992, 1994, 1996, 1998, 2000, 2002, 2004, 2006, 2008, 2010, 2012,\n",
       "       2014, 2016], dtype=int64)"
      ]
     },
     "execution_count": 40,
     "metadata": {},
     "output_type": "execute_result"
    }
   ],
   "source": [
    "# olimpiyatların yapıldığı yılları sıralayalım\n",
    "dizili_array = np.sort(essiz_yillar)\n",
    "dizili_array"
   ]
  },
  {
   "cell_type": "code",
   "execution_count": 41,
   "id": "b41984ce",
   "metadata": {},
   "outputs": [
    {
     "data": {
      "image/png": "[encoded data removed]",
      "text/plain": [
       "<Figure size 432x288 with 1 Axes>"
      ]
     },
     "metadata": {
      "needs_background": "light"
     },
     "output_type": "display_data"
    }
   ],
   "source": [
    "plt.figure()\n",
    "plt.scatter(range(len(dizili_array)), dizili_array)\n",
    "plt.grid(True)\n",
    "plt.ylabel(\"Yıllar\")\n",
    "plt.title(\"Olimpiyatlar Çift Yıllarda Düzenlenir\")\n",
    "plt.show()"
   ]
  },
  {
   "cell_type": "code",
   "execution_count": 42,
   "id": "76bb3f04",
   "metadata": {},
   "outputs": [
    {
     "name": "stdout",
     "output_type": "stream",
     "text": [
      "<class 'pandas.core.series.Series'>\n"
     ]
    },
    {
     "data": {
      "text/plain": [
       "3    1900-01-01\n",
       "37   1920-01-01\n",
       "38   1920-01-01\n",
       "Name: yil, dtype: datetime64[ns]"
      ]
     },
     "execution_count": 42,
     "metadata": {},
     "output_type": "execute_result"
    }
   ],
   "source": [
    "# veri içerisinde bulunan yıl değerlerini date-time tipine dönüştürelim\n",
    "tarih_saat_nesnesi = pd.to_datetime(veri_zaman['yil'], format = '%Y')\n",
    "print(type(tarih_saat_nesnesi))\n",
    "tarih_saat_nesnesi.head(3)"
   ]
  },
  {
   "cell_type": "code",
   "execution_count": 43,
   "id": "cb171f3a",
   "metadata": {},
   "outputs": [
    {
     "data": {
      "text/html": [
       "<div>\n",
       "<style scoped>\n",
       "    .dataframe tbody tr th:only-of-type {\n",
       "        vertical-align: middle;\n",
       "    }\n",
       "\n",
       "    .dataframe tbody tr th {\n",
       "        vertical-align: top;\n",
       "    }\n",
       "\n",
       "    .dataframe thead th {\n",
       "        text-align: right;\n",
       "    }\n",
       "</style>\n",
       "<table border=\"1\" class=\"dataframe\">\n",
       "  <thead>\n",
       "    <tr style=\"text-align: right;\">\n",
       "      <th></th>\n",
       "      <th>isim</th>\n",
       "      <th>cinsiyet</th>\n",
       "      <th>yas</th>\n",
       "      <th>boy</th>\n",
       "      <th>kilo</th>\n",
       "      <th>takım</th>\n",
       "      <th>uok</th>\n",
       "      <th>yil</th>\n",
       "      <th>sezon</th>\n",
       "      <th>sehir</th>\n",
       "      <th>spor</th>\n",
       "      <th>etkinlik</th>\n",
       "      <th>madalya</th>\n",
       "      <th>tarih_saat</th>\n",
       "    </tr>\n",
       "  </thead>\n",
       "  <tbody>\n",
       "    <tr>\n",
       "      <th>3</th>\n",
       "      <td>Edgar Lindenau Aabye</td>\n",
       "      <td>M</td>\n",
       "      <td>34.0</td>\n",
       "      <td>182.48</td>\n",
       "      <td>95.62</td>\n",
       "      <td>Denmark/Sweden</td>\n",
       "      <td>DEN</td>\n",
       "      <td>1900</td>\n",
       "      <td>Summer</td>\n",
       "      <td>Paris</td>\n",
       "      <td>Tug-Of-War</td>\n",
       "      <td>Tug-Of-War Men's Tug-Of-War</td>\n",
       "      <td>Gold</td>\n",
       "      <td>1900-01-01</td>\n",
       "    </tr>\n",
       "    <tr>\n",
       "      <th>37</th>\n",
       "      <td>Arvo Ossian Aaltonen</td>\n",
       "      <td>M</td>\n",
       "      <td>30.0</td>\n",
       "      <td>182.01</td>\n",
       "      <td>76.69</td>\n",
       "      <td>Finland</td>\n",
       "      <td>FIN</td>\n",
       "      <td>1920</td>\n",
       "      <td>Summer</td>\n",
       "      <td>Antwerpen</td>\n",
       "      <td>Swimming</td>\n",
       "      <td>Swimming Men's 200 metres Breaststroke</td>\n",
       "      <td>Bronze</td>\n",
       "      <td>1920-01-01</td>\n",
       "    </tr>\n",
       "    <tr>\n",
       "      <th>38</th>\n",
       "      <td>Arvo Ossian Aaltonen</td>\n",
       "      <td>M</td>\n",
       "      <td>30.0</td>\n",
       "      <td>177.00</td>\n",
       "      <td>75.00</td>\n",
       "      <td>Finland</td>\n",
       "      <td>FIN</td>\n",
       "      <td>1920</td>\n",
       "      <td>Summer</td>\n",
       "      <td>Antwerpen</td>\n",
       "      <td>Swimming</td>\n",
       "      <td>Swimming Men's 400 metres Breaststroke</td>\n",
       "      <td>Bronze</td>\n",
       "      <td>1920-01-01</td>\n",
       "    </tr>\n",
       "  </tbody>\n",
       "</table>\n",
       "</div>"
      ],
      "text/plain": [
       "                    isim cinsiyet   yas     boy   kilo           takım  uok  \\\n",
       "3   Edgar Lindenau Aabye        M  34.0  182.48  95.62  Denmark/Sweden  DEN   \n",
       "37  Arvo Ossian Aaltonen        M  30.0  182.01  76.69         Finland  FIN   \n",
       "38  Arvo Ossian Aaltonen        M  30.0  177.00  75.00         Finland  FIN   \n",
       "\n",
       "     yil   sezon      sehir        spor  \\\n",
       "3   1900  Summer      Paris  Tug-Of-War   \n",
       "37  1920  Summer  Antwerpen    Swimming   \n",
       "38  1920  Summer  Antwerpen    Swimming   \n",
       "\n",
       "                                  etkinlik madalya tarih_saat  \n",
       "3              Tug-Of-War Men's Tug-Of-War    Gold 1900-01-01  \n",
       "37  Swimming Men's 200 metres Breaststroke  Bronze 1920-01-01  \n",
       "38  Swimming Men's 400 metres Breaststroke  Bronze 1920-01-01  "
      ]
     },
     "execution_count": 43,
     "metadata": {},
     "output_type": "execute_result"
    }
   ],
   "source": [
    "veri_zaman['tarih_saat'] = tarih_saat_nesnesi\n",
    "veri_zaman.head(3)"
   ]
  },
  {
   "cell_type": "code",
   "execution_count": 44,
   "id": "80bbb132",
   "metadata": {},
   "outputs": [
    {
     "data": {
      "text/html": [
       "<div>\n",
       "<style scoped>\n",
       "    .dataframe tbody tr th:only-of-type {\n",
       "        vertical-align: middle;\n",
       "    }\n",
       "\n",
       "    .dataframe tbody tr th {\n",
       "        vertical-align: top;\n",
       "    }\n",
       "\n",
       "    .dataframe thead th {\n",
       "        text-align: right;\n",
       "    }\n",
       "</style>\n",
       "<table border=\"1\" class=\"dataframe\">\n",
       "  <thead>\n",
       "    <tr style=\"text-align: right;\">\n",
       "      <th></th>\n",
       "      <th>isim</th>\n",
       "      <th>cinsiyet</th>\n",
       "      <th>yas</th>\n",
       "      <th>boy</th>\n",
       "      <th>kilo</th>\n",
       "      <th>takım</th>\n",
       "      <th>uok</th>\n",
       "      <th>sezon</th>\n",
       "      <th>sehir</th>\n",
       "      <th>spor</th>\n",
       "      <th>etkinlik</th>\n",
       "      <th>madalya</th>\n",
       "    </tr>\n",
       "    <tr>\n",
       "      <th>tarih_saat</th>\n",
       "      <th></th>\n",
       "      <th></th>\n",
       "      <th></th>\n",
       "      <th></th>\n",
       "      <th></th>\n",
       "      <th></th>\n",
       "      <th></th>\n",
       "      <th></th>\n",
       "      <th></th>\n",
       "      <th></th>\n",
       "      <th></th>\n",
       "      <th></th>\n",
       "    </tr>\n",
       "  </thead>\n",
       "  <tbody>\n",
       "    <tr>\n",
       "      <th>1900-01-01</th>\n",
       "      <td>Edgar Lindenau Aabye</td>\n",
       "      <td>M</td>\n",
       "      <td>34.0</td>\n",
       "      <td>182.48</td>\n",
       "      <td>95.62</td>\n",
       "      <td>Denmark/Sweden</td>\n",
       "      <td>DEN</td>\n",
       "      <td>Summer</td>\n",
       "      <td>Paris</td>\n",
       "      <td>Tug-Of-War</td>\n",
       "      <td>Tug-Of-War Men's Tug-Of-War</td>\n",
       "      <td>Gold</td>\n",
       "    </tr>\n",
       "    <tr>\n",
       "      <th>1920-01-01</th>\n",
       "      <td>Arvo Ossian Aaltonen</td>\n",
       "      <td>M</td>\n",
       "      <td>30.0</td>\n",
       "      <td>182.01</td>\n",
       "      <td>76.69</td>\n",
       "      <td>Finland</td>\n",
       "      <td>FIN</td>\n",
       "      <td>Summer</td>\n",
       "      <td>Antwerpen</td>\n",
       "      <td>Swimming</td>\n",
       "      <td>Swimming Men's 200 metres Breaststroke</td>\n",
       "      <td>Bronze</td>\n",
       "    </tr>\n",
       "    <tr>\n",
       "      <th>1920-01-01</th>\n",
       "      <td>Arvo Ossian Aaltonen</td>\n",
       "      <td>M</td>\n",
       "      <td>30.0</td>\n",
       "      <td>177.00</td>\n",
       "      <td>75.00</td>\n",
       "      <td>Finland</td>\n",
       "      <td>FIN</td>\n",
       "      <td>Summer</td>\n",
       "      <td>Antwerpen</td>\n",
       "      <td>Swimming</td>\n",
       "      <td>Swimming Men's 400 metres Breaststroke</td>\n",
       "      <td>Bronze</td>\n",
       "    </tr>\n",
       "    <tr>\n",
       "      <th>2014-01-01</th>\n",
       "      <td>Juhamatti Tapio Aaltonen</td>\n",
       "      <td>M</td>\n",
       "      <td>28.0</td>\n",
       "      <td>184.00</td>\n",
       "      <td>85.00</td>\n",
       "      <td>Finland</td>\n",
       "      <td>FIN</td>\n",
       "      <td>Winter</td>\n",
       "      <td>Sochi</td>\n",
       "      <td>Ice Hockey</td>\n",
       "      <td>Ice Hockey Men's Ice Hockey</td>\n",
       "      <td>Bronze</td>\n",
       "    </tr>\n",
       "    <tr>\n",
       "      <th>1948-01-01</th>\n",
       "      <td>Paavo Johannes Aaltonen</td>\n",
       "      <td>M</td>\n",
       "      <td>28.0</td>\n",
       "      <td>175.00</td>\n",
       "      <td>64.00</td>\n",
       "      <td>Finland</td>\n",
       "      <td>FIN</td>\n",
       "      <td>Summer</td>\n",
       "      <td>London</td>\n",
       "      <td>Gymnastics</td>\n",
       "      <td>Gymnastics Men's Individual All-Around</td>\n",
       "      <td>Bronze</td>\n",
       "    </tr>\n",
       "    <tr>\n",
       "      <th>...</th>\n",
       "      <td>...</td>\n",
       "      <td>...</td>\n",
       "      <td>...</td>\n",
       "      <td>...</td>\n",
       "      <td>...</td>\n",
       "      <td>...</td>\n",
       "      <td>...</td>\n",
       "      <td>...</td>\n",
       "      <td>...</td>\n",
       "      <td>...</td>\n",
       "      <td>...</td>\n",
       "      <td>...</td>\n",
       "    </tr>\n",
       "    <tr>\n",
       "      <th>1956-01-01</th>\n",
       "      <td>Galina Ivanovna Zybina (-Fyodorova)</td>\n",
       "      <td>F</td>\n",
       "      <td>25.0</td>\n",
       "      <td>168.00</td>\n",
       "      <td>80.00</td>\n",
       "      <td>Soviet Union</td>\n",
       "      <td>URS</td>\n",
       "      <td>Summer</td>\n",
       "      <td>Melbourne</td>\n",
       "      <td>Athletics</td>\n",
       "      <td>Athletics Women's Shot Put</td>\n",
       "      <td>Silver</td>\n",
       "    </tr>\n",
       "    <tr>\n",
       "      <th>1964-01-01</th>\n",
       "      <td>Galina Ivanovna Zybina (-Fyodorova)</td>\n",
       "      <td>F</td>\n",
       "      <td>33.0</td>\n",
       "      <td>168.00</td>\n",
       "      <td>80.00</td>\n",
       "      <td>Soviet Union</td>\n",
       "      <td>URS</td>\n",
       "      <td>Summer</td>\n",
       "      <td>Tokyo</td>\n",
       "      <td>Athletics</td>\n",
       "      <td>Athletics Women's Shot Put</td>\n",
       "      <td>Bronze</td>\n",
       "    </tr>\n",
       "    <tr>\n",
       "      <th>1980-01-01</th>\n",
       "      <td>Bogusaw Zych</td>\n",
       "      <td>M</td>\n",
       "      <td>28.0</td>\n",
       "      <td>182.00</td>\n",
       "      <td>82.00</td>\n",
       "      <td>Poland</td>\n",
       "      <td>POL</td>\n",
       "      <td>Summer</td>\n",
       "      <td>Moskva</td>\n",
       "      <td>Fencing</td>\n",
       "      <td>Fencing Men's Foil, Team</td>\n",
       "      <td>Bronze</td>\n",
       "    </tr>\n",
       "    <tr>\n",
       "      <th>2000-01-01</th>\n",
       "      <td>Olesya Nikolayevna Zykina</td>\n",
       "      <td>F</td>\n",
       "      <td>19.0</td>\n",
       "      <td>171.00</td>\n",
       "      <td>64.00</td>\n",
       "      <td>Russia</td>\n",
       "      <td>RUS</td>\n",
       "      <td>Summer</td>\n",
       "      <td>Sydney</td>\n",
       "      <td>Athletics</td>\n",
       "      <td>Athletics Women's 4 x 400 metres Relay</td>\n",
       "      <td>Bronze</td>\n",
       "    </tr>\n",
       "    <tr>\n",
       "      <th>2004-01-01</th>\n",
       "      <td>Olesya Nikolayevna Zykina</td>\n",
       "      <td>F</td>\n",
       "      <td>23.0</td>\n",
       "      <td>171.00</td>\n",
       "      <td>64.00</td>\n",
       "      <td>Russia</td>\n",
       "      <td>RUS</td>\n",
       "      <td>Summer</td>\n",
       "      <td>Athina</td>\n",
       "      <td>Athletics</td>\n",
       "      <td>Athletics Women's 4 x 400 metres Relay</td>\n",
       "      <td>Silver</td>\n",
       "    </tr>\n",
       "  </tbody>\n",
       "</table>\n",
       "<p>39783 rows × 12 columns</p>\n",
       "</div>"
      ],
      "text/plain": [
       "                                           isim cinsiyet   yas     boy   kilo  \\\n",
       "tarih_saat                                                                      \n",
       "1900-01-01                 Edgar Lindenau Aabye        M  34.0  182.48  95.62   \n",
       "1920-01-01                 Arvo Ossian Aaltonen        M  30.0  182.01  76.69   \n",
       "1920-01-01                 Arvo Ossian Aaltonen        M  30.0  177.00  75.00   \n",
       "2014-01-01             Juhamatti Tapio Aaltonen        M  28.0  184.00  85.00   \n",
       "1948-01-01              Paavo Johannes Aaltonen        M  28.0  175.00  64.00   \n",
       "...                                         ...      ...   ...     ...    ...   \n",
       "1956-01-01  Galina Ivanovna Zybina (-Fyodorova)        F  25.0  168.00  80.00   \n",
       "1964-01-01  Galina Ivanovna Zybina (-Fyodorova)        F  33.0  168.00  80.00   \n",
       "1980-01-01                         Bogusaw Zych        M  28.0  182.00  82.00   \n",
       "2000-01-01            Olesya Nikolayevna Zykina        F  19.0  171.00  64.00   \n",
       "2004-01-01            Olesya Nikolayevna Zykina        F  23.0  171.00  64.00   \n",
       "\n",
       "                     takım  uok   sezon      sehir        spor  \\\n",
       "tarih_saat                                                       \n",
       "1900-01-01  Denmark/Sweden  DEN  Summer      Paris  Tug-Of-War   \n",
       "1920-01-01         Finland  FIN  Summer  Antwerpen    Swimming   \n",
       "1920-01-01         Finland  FIN  Summer  Antwerpen    Swimming   \n",
       "2014-01-01         Finland  FIN  Winter      Sochi  Ice Hockey   \n",
       "1948-01-01         Finland  FIN  Summer     London  Gymnastics   \n",
       "...                    ...  ...     ...        ...         ...   \n",
       "1956-01-01    Soviet Union  URS  Summer  Melbourne   Athletics   \n",
       "1964-01-01    Soviet Union  URS  Summer      Tokyo   Athletics   \n",
       "1980-01-01          Poland  POL  Summer     Moskva     Fencing   \n",
       "2000-01-01          Russia  RUS  Summer     Sydney   Athletics   \n",
       "2004-01-01          Russia  RUS  Summer     Athina   Athletics   \n",
       "\n",
       "                                          etkinlik madalya  \n",
       "tarih_saat                                                  \n",
       "1900-01-01             Tug-Of-War Men's Tug-Of-War    Gold  \n",
       "1920-01-01  Swimming Men's 200 metres Breaststroke  Bronze  \n",
       "1920-01-01  Swimming Men's 400 metres Breaststroke  Bronze  \n",
       "2014-01-01             Ice Hockey Men's Ice Hockey  Bronze  \n",
       "1948-01-01  Gymnastics Men's Individual All-Around  Bronze  \n",
       "...                                            ...     ...  \n",
       "1956-01-01              Athletics Women's Shot Put  Silver  \n",
       "1964-01-01              Athletics Women's Shot Put  Bronze  \n",
       "1980-01-01                Fencing Men's Foil, Team  Bronze  \n",
       "2000-01-01  Athletics Women's 4 x 400 metres Relay  Bronze  \n",
       "2004-01-01  Athletics Women's 4 x 400 metres Relay  Silver  \n",
       "\n",
       "[39783 rows x 12 columns]"
      ]
     },
     "execution_count": 44,
     "metadata": {},
     "output_type": "execute_result"
    }
   ],
   "source": [
    "# veri zaman değişkeninin ana indeksini, datetime tipi olan tari_saat değerine güncelleyelim\n",
    "veri_zaman = veri_zaman.set_index('tarih_saat')\n",
    "veri_zaman.drop(['yil'], axis = 1, inplace = True)\n",
    "veri_zaman"
   ]
  },
  {
   "cell_type": "code",
   "execution_count": 45,
   "id": "d5958c29",
   "metadata": {},
   "outputs": [
    {
     "data": {
      "text/html": [
       "<div>\n",
       "<style scoped>\n",
       "    .dataframe tbody tr th:only-of-type {\n",
       "        vertical-align: middle;\n",
       "    }\n",
       "\n",
       "    .dataframe tbody tr th {\n",
       "        vertical-align: top;\n",
       "    }\n",
       "\n",
       "    .dataframe thead th {\n",
       "        text-align: right;\n",
       "    }\n",
       "</style>\n",
       "<table border=\"1\" class=\"dataframe\">\n",
       "  <thead>\n",
       "    <tr style=\"text-align: right;\">\n",
       "      <th></th>\n",
       "      <th>isim</th>\n",
       "      <th>cinsiyet</th>\n",
       "      <th>yas</th>\n",
       "      <th>boy</th>\n",
       "      <th>kilo</th>\n",
       "      <th>takım</th>\n",
       "      <th>uok</th>\n",
       "      <th>sezon</th>\n",
       "      <th>sehir</th>\n",
       "      <th>spor</th>\n",
       "      <th>etkinlik</th>\n",
       "      <th>madalya</th>\n",
       "    </tr>\n",
       "    <tr>\n",
       "      <th>tarih_saat</th>\n",
       "      <th></th>\n",
       "      <th></th>\n",
       "      <th></th>\n",
       "      <th></th>\n",
       "      <th></th>\n",
       "      <th></th>\n",
       "      <th></th>\n",
       "      <th></th>\n",
       "      <th></th>\n",
       "      <th></th>\n",
       "      <th></th>\n",
       "      <th></th>\n",
       "    </tr>\n",
       "  </thead>\n",
       "  <tbody>\n",
       "    <tr>\n",
       "      <th>1900-01-01</th>\n",
       "      <td>Edgar Lindenau Aabye</td>\n",
       "      <td>M</td>\n",
       "      <td>34.0</td>\n",
       "      <td>182.48</td>\n",
       "      <td>95.62</td>\n",
       "      <td>Denmark/Sweden</td>\n",
       "      <td>DEN</td>\n",
       "      <td>Summer</td>\n",
       "      <td>Paris</td>\n",
       "      <td>Tug-Of-War</td>\n",
       "      <td>Tug-Of-War Men's Tug-Of-War</td>\n",
       "      <td>Gold</td>\n",
       "    </tr>\n",
       "    <tr>\n",
       "      <th>1920-01-01</th>\n",
       "      <td>Arvo Ossian Aaltonen</td>\n",
       "      <td>M</td>\n",
       "      <td>30.0</td>\n",
       "      <td>182.01</td>\n",
       "      <td>76.69</td>\n",
       "      <td>Finland</td>\n",
       "      <td>FIN</td>\n",
       "      <td>Summer</td>\n",
       "      <td>Antwerpen</td>\n",
       "      <td>Swimming</td>\n",
       "      <td>Swimming Men's 200 metres Breaststroke</td>\n",
       "      <td>Bronze</td>\n",
       "    </tr>\n",
       "    <tr>\n",
       "      <th>1920-01-01</th>\n",
       "      <td>Arvo Ossian Aaltonen</td>\n",
       "      <td>M</td>\n",
       "      <td>30.0</td>\n",
       "      <td>177.00</td>\n",
       "      <td>75.00</td>\n",
       "      <td>Finland</td>\n",
       "      <td>FIN</td>\n",
       "      <td>Summer</td>\n",
       "      <td>Antwerpen</td>\n",
       "      <td>Swimming</td>\n",
       "      <td>Swimming Men's 400 metres Breaststroke</td>\n",
       "      <td>Bronze</td>\n",
       "    </tr>\n",
       "  </tbody>\n",
       "</table>\n",
       "</div>"
      ],
      "text/plain": [
       "                            isim cinsiyet   yas     boy   kilo  \\\n",
       "tarih_saat                                                       \n",
       "1900-01-01  Edgar Lindenau Aabye        M  34.0  182.48  95.62   \n",
       "1920-01-01  Arvo Ossian Aaltonen        M  30.0  182.01  76.69   \n",
       "1920-01-01  Arvo Ossian Aaltonen        M  30.0  177.00  75.00   \n",
       "\n",
       "                     takım  uok   sezon      sehir        spor  \\\n",
       "tarih_saat                                                       \n",
       "1900-01-01  Denmark/Sweden  DEN  Summer      Paris  Tug-Of-War   \n",
       "1920-01-01         Finland  FIN  Summer  Antwerpen    Swimming   \n",
       "1920-01-01         Finland  FIN  Summer  Antwerpen    Swimming   \n",
       "\n",
       "                                          etkinlik madalya  \n",
       "tarih_saat                                                  \n",
       "1900-01-01             Tug-Of-War Men's Tug-Of-War    Gold  \n",
       "1920-01-01  Swimming Men's 200 metres Breaststroke  Bronze  \n",
       "1920-01-01  Swimming Men's 400 metres Breaststroke  Bronze  "
      ]
     },
     "execution_count": 45,
     "metadata": {},
     "output_type": "execute_result"
    }
   ],
   "source": [
    "veri_zaman.head(3)"
   ]
  },
  {
   "cell_type": "markdown",
   "id": "50d19978",
   "metadata": {},
   "source": [
    "# Yıllara göre ortalama yaş, kilo ve boy değişimi"
   ]
  },
  {
   "cell_type": "code",
   "execution_count": 46,
   "id": "89f2d7aa",
   "metadata": {},
   "outputs": [
    {
     "data": {
      "text/html": [
       "<div>\n",
       "<style scoped>\n",
       "    .dataframe tbody tr th:only-of-type {\n",
       "        vertical-align: middle;\n",
       "    }\n",
       "\n",
       "    .dataframe tbody tr th {\n",
       "        vertical-align: top;\n",
       "    }\n",
       "\n",
       "    .dataframe thead th {\n",
       "        text-align: right;\n",
       "    }\n",
       "</style>\n",
       "<table border=\"1\" class=\"dataframe\">\n",
       "  <thead>\n",
       "    <tr style=\"text-align: right;\">\n",
       "      <th></th>\n",
       "      <th>yas</th>\n",
       "      <th>boy</th>\n",
       "      <th>kilo</th>\n",
       "    </tr>\n",
       "    <tr>\n",
       "      <th>tarih_saat</th>\n",
       "      <th></th>\n",
       "      <th></th>\n",
       "      <th></th>\n",
       "    </tr>\n",
       "  </thead>\n",
       "  <tbody>\n",
       "    <tr>\n",
       "      <th>1896-12-31</th>\n",
       "      <td>23.905734</td>\n",
       "      <td>174.033707</td>\n",
       "      <td>73.251491</td>\n",
       "    </tr>\n",
       "    <tr>\n",
       "      <th>1898-12-31</th>\n",
       "      <td>NaN</td>\n",
       "      <td>NaN</td>\n",
       "      <td>NaN</td>\n",
       "    </tr>\n",
       "    <tr>\n",
       "      <th>1900-12-31</th>\n",
       "      <td>27.786689</td>\n",
       "      <td>179.022374</td>\n",
       "      <td>78.171358</td>\n",
       "    </tr>\n",
       "    <tr>\n",
       "      <th>1902-12-31</th>\n",
       "      <td>NaN</td>\n",
       "      <td>NaN</td>\n",
       "      <td>NaN</td>\n",
       "    </tr>\n",
       "    <tr>\n",
       "      <th>1904-12-31</th>\n",
       "      <td>26.363868</td>\n",
       "      <td>177.331228</td>\n",
       "      <td>75.343632</td>\n",
       "    </tr>\n",
       "  </tbody>\n",
       "</table>\n",
       "</div>"
      ],
      "text/plain": [
       "                  yas         boy       kilo\n",
       "tarih_saat                                  \n",
       "1896-12-31  23.905734  174.033707  73.251491\n",
       "1898-12-31        NaN         NaN        NaN\n",
       "1900-12-31  27.786689  179.022374  78.171358\n",
       "1902-12-31        NaN         NaN        NaN\n",
       "1904-12-31  26.363868  177.331228  75.343632"
      ]
     },
     "execution_count": 46,
     "metadata": {},
     "output_type": "execute_result"
    }
   ],
   "source": [
    "periyodik_veri = veri_zaman.resample(\"2A\").mean() # 2 yıllık periyotlar halinde\n",
    "periyodik_veri.head()"
   ]
  },
  {
   "cell_type": "code",
   "execution_count": 47,
   "id": "a349e967",
   "metadata": {},
   "outputs": [
    {
     "data": {
      "text/html": [
       "<div>\n",
       "<style scoped>\n",
       "    .dataframe tbody tr th:only-of-type {\n",
       "        vertical-align: middle;\n",
       "    }\n",
       "\n",
       "    .dataframe tbody tr th {\n",
       "        vertical-align: top;\n",
       "    }\n",
       "\n",
       "    .dataframe thead th {\n",
       "        text-align: right;\n",
       "    }\n",
       "</style>\n",
       "<table border=\"1\" class=\"dataframe\">\n",
       "  <thead>\n",
       "    <tr style=\"text-align: right;\">\n",
       "      <th></th>\n",
       "      <th>yas</th>\n",
       "      <th>boy</th>\n",
       "      <th>kilo</th>\n",
       "    </tr>\n",
       "    <tr>\n",
       "      <th>tarih_saat</th>\n",
       "      <th></th>\n",
       "      <th></th>\n",
       "      <th></th>\n",
       "    </tr>\n",
       "  </thead>\n",
       "  <tbody>\n",
       "    <tr>\n",
       "      <th>1896-12-31</th>\n",
       "      <td>23.905734</td>\n",
       "      <td>174.033707</td>\n",
       "      <td>73.251491</td>\n",
       "    </tr>\n",
       "    <tr>\n",
       "      <th>1900-12-31</th>\n",
       "      <td>27.786689</td>\n",
       "      <td>179.022374</td>\n",
       "      <td>78.171358</td>\n",
       "    </tr>\n",
       "    <tr>\n",
       "      <th>1904-12-31</th>\n",
       "      <td>26.363868</td>\n",
       "      <td>177.331228</td>\n",
       "      <td>75.343632</td>\n",
       "    </tr>\n",
       "    <tr>\n",
       "      <th>1906-12-31</th>\n",
       "      <td>26.479389</td>\n",
       "      <td>176.604301</td>\n",
       "      <td>75.310328</td>\n",
       "    </tr>\n",
       "    <tr>\n",
       "      <th>1908-12-31</th>\n",
       "      <td>27.566739</td>\n",
       "      <td>176.713662</td>\n",
       "      <td>74.486637</td>\n",
       "    </tr>\n",
       "  </tbody>\n",
       "</table>\n",
       "</div>"
      ],
      "text/plain": [
       "                  yas         boy       kilo\n",
       "tarih_saat                                  \n",
       "1896-12-31  23.905734  174.033707  73.251491\n",
       "1900-12-31  27.786689  179.022374  78.171358\n",
       "1904-12-31  26.363868  177.331228  75.343632\n",
       "1906-12-31  26.479389  176.604301  75.310328\n",
       "1908-12-31  27.566739  176.713662  74.486637"
      ]
     },
     "execution_count": 47,
     "metadata": {},
     "output_type": "execute_result"
    }
   ],
   "source": [
    "# kayıp verileri çıkartalım\n",
    "periyodik_veri.dropna(axis = 0, inplace = True) # axis = 0 satırları çıkartması için\n",
    "periyodik_veri.head()"
   ]
  },
  {
   "cell_type": "code",
   "execution_count": 48,
   "id": "18a66968",
   "metadata": {},
   "outputs": [
    {
     "data": {
      "text/plain": [
       "<function matplotlib.pyplot.show(close=None, block=None)>"
      ]
     },
     "execution_count": 48,
     "metadata": {},
     "output_type": "execute_result"
    },
    {
     "data": {
      "text/plain": [
       "<Figure size 432x288 with 0 Axes>"
      ]
     },
     "metadata": {},
     "output_type": "display_data"
    },
    {
     "data": {
      "image/png": "[encoded data removed]",
      "text/plain": [
       "<Figure size 432x288 with 1 Axes>"
      ]
     },
     "metadata": {
      "needs_background": "light"
     },
     "output_type": "display_data"
    }
   ],
   "source": [
    "plt.figure()\n",
    "periyodik_veri.plot()\n",
    "plt.title(\"Yıllara Göre Ortalama Yaş, Kilo ve Boy Değişimi\")\n",
    "plt.xlabel(\"Yıl\")\n",
    "plt.grid(True)\n",
    "plt.show"
   ]
  },
  {
   "cell_type": "code",
   "execution_count": 49,
   "id": "0fb1dfd6",
   "metadata": {},
   "outputs": [
    {
     "data": {
      "text/html": [
       "<div>\n",
       "<style scoped>\n",
       "    .dataframe tbody tr th:only-of-type {\n",
       "        vertical-align: middle;\n",
       "    }\n",
       "\n",
       "    .dataframe tbody tr th {\n",
       "        vertical-align: top;\n",
       "    }\n",
       "\n",
       "    .dataframe thead th {\n",
       "        text-align: right;\n",
       "    }\n",
       "</style>\n",
       "<table border=\"1\" class=\"dataframe\">\n",
       "  <thead>\n",
       "    <tr style=\"text-align: right;\">\n",
       "      <th></th>\n",
       "      <th>isim</th>\n",
       "      <th>cinsiyet</th>\n",
       "      <th>yas</th>\n",
       "      <th>boy</th>\n",
       "      <th>kilo</th>\n",
       "      <th>takım</th>\n",
       "      <th>uok</th>\n",
       "      <th>sezon</th>\n",
       "      <th>sehir</th>\n",
       "      <th>spor</th>\n",
       "      <th>etkinlik</th>\n",
       "      <th>madalya_Bronze</th>\n",
       "      <th>madalya_Gold</th>\n",
       "      <th>madalya_Silver</th>\n",
       "    </tr>\n",
       "    <tr>\n",
       "      <th>tarih_saat</th>\n",
       "      <th></th>\n",
       "      <th></th>\n",
       "      <th></th>\n",
       "      <th></th>\n",
       "      <th></th>\n",
       "      <th></th>\n",
       "      <th></th>\n",
       "      <th></th>\n",
       "      <th></th>\n",
       "      <th></th>\n",
       "      <th></th>\n",
       "      <th></th>\n",
       "      <th></th>\n",
       "      <th></th>\n",
       "    </tr>\n",
       "  </thead>\n",
       "  <tbody>\n",
       "    <tr>\n",
       "      <th>1900-01-01</th>\n",
       "      <td>Edgar Lindenau Aabye</td>\n",
       "      <td>M</td>\n",
       "      <td>34.0</td>\n",
       "      <td>182.48</td>\n",
       "      <td>95.62</td>\n",
       "      <td>Denmark/Sweden</td>\n",
       "      <td>DEN</td>\n",
       "      <td>Summer</td>\n",
       "      <td>Paris</td>\n",
       "      <td>Tug-Of-War</td>\n",
       "      <td>Tug-Of-War Men's Tug-Of-War</td>\n",
       "      <td>0</td>\n",
       "      <td>1</td>\n",
       "      <td>0</td>\n",
       "    </tr>\n",
       "    <tr>\n",
       "      <th>1920-01-01</th>\n",
       "      <td>Arvo Ossian Aaltonen</td>\n",
       "      <td>M</td>\n",
       "      <td>30.0</td>\n",
       "      <td>182.01</td>\n",
       "      <td>76.69</td>\n",
       "      <td>Finland</td>\n",
       "      <td>FIN</td>\n",
       "      <td>Summer</td>\n",
       "      <td>Antwerpen</td>\n",
       "      <td>Swimming</td>\n",
       "      <td>Swimming Men's 200 metres Breaststroke</td>\n",
       "      <td>1</td>\n",
       "      <td>0</td>\n",
       "      <td>0</td>\n",
       "    </tr>\n",
       "    <tr>\n",
       "      <th>1920-01-01</th>\n",
       "      <td>Arvo Ossian Aaltonen</td>\n",
       "      <td>M</td>\n",
       "      <td>30.0</td>\n",
       "      <td>177.00</td>\n",
       "      <td>75.00</td>\n",
       "      <td>Finland</td>\n",
       "      <td>FIN</td>\n",
       "      <td>Summer</td>\n",
       "      <td>Antwerpen</td>\n",
       "      <td>Swimming</td>\n",
       "      <td>Swimming Men's 400 metres Breaststroke</td>\n",
       "      <td>1</td>\n",
       "      <td>0</td>\n",
       "      <td>0</td>\n",
       "    </tr>\n",
       "  </tbody>\n",
       "</table>\n",
       "</div>"
      ],
      "text/plain": [
       "                            isim cinsiyet   yas     boy   kilo  \\\n",
       "tarih_saat                                                       \n",
       "1900-01-01  Edgar Lindenau Aabye        M  34.0  182.48  95.62   \n",
       "1920-01-01  Arvo Ossian Aaltonen        M  30.0  182.01  76.69   \n",
       "1920-01-01  Arvo Ossian Aaltonen        M  30.0  177.00  75.00   \n",
       "\n",
       "                     takım  uok   sezon      sehir        spor  \\\n",
       "tarih_saat                                                       \n",
       "1900-01-01  Denmark/Sweden  DEN  Summer      Paris  Tug-Of-War   \n",
       "1920-01-01         Finland  FIN  Summer  Antwerpen    Swimming   \n",
       "1920-01-01         Finland  FIN  Summer  Antwerpen    Swimming   \n",
       "\n",
       "                                          etkinlik  madalya_Bronze  \\\n",
       "tarih_saat                                                           \n",
       "1900-01-01             Tug-Of-War Men's Tug-Of-War               0   \n",
       "1920-01-01  Swimming Men's 200 metres Breaststroke               1   \n",
       "1920-01-01  Swimming Men's 400 metres Breaststroke               1   \n",
       "\n",
       "            madalya_Gold  madalya_Silver  \n",
       "tarih_saat                                \n",
       "1900-01-01             1               0  \n",
       "1920-01-01             0               0  \n",
       "1920-01-01             0               0  "
      ]
     },
     "execution_count": 49,
     "metadata": {},
     "output_type": "execute_result"
    }
   ],
   "source": [
    "# YILLARA GÖRE MADALYA SAYILARI\n",
    "veri_zaman = pd.get_dummies(veri_zaman, columns = [\"madalya\"])\n",
    "veri_zaman.head(3)"
   ]
  },
  {
   "cell_type": "code",
   "execution_count": 50,
   "id": "68c3b528",
   "metadata": {},
   "outputs": [
    {
     "data": {
      "text/html": [
       "<div>\n",
       "<style scoped>\n",
       "    .dataframe tbody tr th:only-of-type {\n",
       "        vertical-align: middle;\n",
       "    }\n",
       "\n",
       "    .dataframe tbody tr th {\n",
       "        vertical-align: top;\n",
       "    }\n",
       "\n",
       "    .dataframe thead th {\n",
       "        text-align: right;\n",
       "    }\n",
       "</style>\n",
       "<table border=\"1\" class=\"dataframe\">\n",
       "  <thead>\n",
       "    <tr style=\"text-align: right;\">\n",
       "      <th></th>\n",
       "      <th>yas</th>\n",
       "      <th>boy</th>\n",
       "      <th>kilo</th>\n",
       "      <th>madalya_Bronze</th>\n",
       "      <th>madalya_Gold</th>\n",
       "      <th>madalya_Silver</th>\n",
       "    </tr>\n",
       "    <tr>\n",
       "      <th>tarih_saat</th>\n",
       "      <th></th>\n",
       "      <th></th>\n",
       "      <th></th>\n",
       "      <th></th>\n",
       "      <th></th>\n",
       "      <th></th>\n",
       "    </tr>\n",
       "  </thead>\n",
       "  <tbody>\n",
       "    <tr>\n",
       "      <th>2008-12-31</th>\n",
       "      <td>53344.0</td>\n",
       "      <td>365157.91</td>\n",
       "      <td>152090.92</td>\n",
       "      <td>710.0</td>\n",
       "      <td>671.0</td>\n",
       "      <td>667.0</td>\n",
       "    </tr>\n",
       "    <tr>\n",
       "      <th>2010-12-31</th>\n",
       "      <td>13896.0</td>\n",
       "      <td>91395.00</td>\n",
       "      <td>37877.12</td>\n",
       "      <td>171.0</td>\n",
       "      <td>174.0</td>\n",
       "      <td>175.0</td>\n",
       "    </tr>\n",
       "    <tr>\n",
       "      <th>2012-12-31</th>\n",
       "      <td>50595.0</td>\n",
       "      <td>346091.47</td>\n",
       "      <td>143102.94</td>\n",
       "      <td>679.0</td>\n",
       "      <td>632.0</td>\n",
       "      <td>630.0</td>\n",
       "    </tr>\n",
       "    <tr>\n",
       "      <th>2014-12-31</th>\n",
       "      <td>15907.0</td>\n",
       "      <td>104686.00</td>\n",
       "      <td>42838.63</td>\n",
       "      <td>198.0</td>\n",
       "      <td>202.0</td>\n",
       "      <td>197.0</td>\n",
       "    </tr>\n",
       "    <tr>\n",
       "      <th>2016-12-31</th>\n",
       "      <td>53256.0</td>\n",
       "      <td>360846.03</td>\n",
       "      <td>149628.71</td>\n",
       "      <td>703.0</td>\n",
       "      <td>665.0</td>\n",
       "      <td>655.0</td>\n",
       "    </tr>\n",
       "  </tbody>\n",
       "</table>\n",
       "</div>"
      ],
      "text/plain": [
       "                yas        boy       kilo  madalya_Bronze  madalya_Gold  \\\n",
       "tarih_saat                                                                \n",
       "2008-12-31  53344.0  365157.91  152090.92           710.0         671.0   \n",
       "2010-12-31  13896.0   91395.00   37877.12           171.0         174.0   \n",
       "2012-12-31  50595.0  346091.47  143102.94           679.0         632.0   \n",
       "2014-12-31  15907.0  104686.00   42838.63           198.0         202.0   \n",
       "2016-12-31  53256.0  360846.03  149628.71           703.0         665.0   \n",
       "\n",
       "            madalya_Silver  \n",
       "tarih_saat                  \n",
       "2008-12-31           667.0  \n",
       "2010-12-31           175.0  \n",
       "2012-12-31           630.0  \n",
       "2014-12-31           197.0  \n",
       "2016-12-31           655.0  "
      ]
     },
     "execution_count": 50,
     "metadata": {},
     "output_type": "execute_result"
    }
   ],
   "source": [
    "periyodik_veri = veri_zaman.resample(\"2A\").sum()\n",
    "periyodik_veri.head()\n",
    "periyodik_veri = periyodik_veri[~(periyodik_veri == 0).any(axis = 1)]\n",
    "periyodik_veri.tail()"
   ]
  },
  {
   "cell_type": "code",
   "execution_count": 51,
   "id": "1f91355d",
   "metadata": {},
   "outputs": [
    {
     "data": {
      "text/plain": [
       "<function matplotlib.pyplot.show(close=None, block=None)>"
      ]
     },
     "execution_count": 51,
     "metadata": {},
     "output_type": "execute_result"
    },
    {
     "data": {
      "text/plain": [
       "<Figure size 432x288 with 0 Axes>"
      ]
     },
     "metadata": {},
     "output_type": "display_data"
    },
    {
     "data": {
      "image/png": "[encoded data removed]",
      "text/plain": [
       "<Figure size 432x288 with 1 Axes>"
      ]
     },
     "metadata": {
      "needs_background": "light"
     },
     "output_type": "display_data"
    }
   ],
   "source": [
    "plt.figure()\n",
    "periyodik_veri.loc[:,[\"madalya_Bronze\", \"madalya_Gold\", \"madalya_Silver\"]].plot()\n",
    "plt.title(\"Yıllara Göre Madalya Sayıları\")\n",
    "plt.xlabel(\"Sayı\")\n",
    "plt.ylabel(\"Yıl\")\n",
    "plt.grid(True)\n",
    "plt.show"
   ]
  },
  {
   "cell_type": "code",
   "execution_count": 52,
   "id": "c4eec7ca",
   "metadata": {},
   "outputs": [
    {
     "data": {
      "text/html": [
       "<div>\n",
       "<style scoped>\n",
       "    .dataframe tbody tr th:only-of-type {\n",
       "        vertical-align: middle;\n",
       "    }\n",
       "\n",
       "    .dataframe tbody tr th {\n",
       "        vertical-align: top;\n",
       "    }\n",
       "\n",
       "    .dataframe thead th {\n",
       "        text-align: right;\n",
       "    }\n",
       "</style>\n",
       "<table border=\"1\" class=\"dataframe\">\n",
       "  <thead>\n",
       "    <tr style=\"text-align: right;\">\n",
       "      <th></th>\n",
       "      <th>isim</th>\n",
       "      <th>cinsiyet</th>\n",
       "      <th>yas</th>\n",
       "      <th>boy</th>\n",
       "      <th>kilo</th>\n",
       "      <th>takım</th>\n",
       "      <th>uok</th>\n",
       "      <th>sezon</th>\n",
       "      <th>sehir</th>\n",
       "      <th>spor</th>\n",
       "      <th>etkinlik</th>\n",
       "      <th>madalya_Bronze</th>\n",
       "      <th>madalya_Gold</th>\n",
       "      <th>madalya_Silver</th>\n",
       "    </tr>\n",
       "    <tr>\n",
       "      <th>tarih_saat</th>\n",
       "      <th></th>\n",
       "      <th></th>\n",
       "      <th></th>\n",
       "      <th></th>\n",
       "      <th></th>\n",
       "      <th></th>\n",
       "      <th></th>\n",
       "      <th></th>\n",
       "      <th></th>\n",
       "      <th></th>\n",
       "      <th></th>\n",
       "      <th></th>\n",
       "      <th></th>\n",
       "      <th></th>\n",
       "    </tr>\n",
       "  </thead>\n",
       "  <tbody>\n",
       "    <tr>\n",
       "      <th>2014-01-01</th>\n",
       "      <td>Juhamatti Tapio Aaltonen</td>\n",
       "      <td>M</td>\n",
       "      <td>28.0</td>\n",
       "      <td>184.0</td>\n",
       "      <td>85.0</td>\n",
       "      <td>Finland</td>\n",
       "      <td>FIN</td>\n",
       "      <td>Winter</td>\n",
       "      <td>Sochi</td>\n",
       "      <td>Ice Hockey</td>\n",
       "      <td>Ice Hockey Men's Ice Hockey</td>\n",
       "      <td>1</td>\n",
       "      <td>0</td>\n",
       "      <td>0</td>\n",
       "    </tr>\n",
       "    <tr>\n",
       "      <th>1992-01-01</th>\n",
       "      <td>Kjetil Andr Aamodt</td>\n",
       "      <td>M</td>\n",
       "      <td>20.0</td>\n",
       "      <td>176.0</td>\n",
       "      <td>85.0</td>\n",
       "      <td>Norway</td>\n",
       "      <td>NOR</td>\n",
       "      <td>Winter</td>\n",
       "      <td>Albertville</td>\n",
       "      <td>Alpine Skiing</td>\n",
       "      <td>Alpine Skiing Men's Super G</td>\n",
       "      <td>0</td>\n",
       "      <td>1</td>\n",
       "      <td>0</td>\n",
       "    </tr>\n",
       "    <tr>\n",
       "      <th>1992-01-01</th>\n",
       "      <td>Kjetil Andr Aamodt</td>\n",
       "      <td>M</td>\n",
       "      <td>20.0</td>\n",
       "      <td>176.0</td>\n",
       "      <td>85.0</td>\n",
       "      <td>Norway</td>\n",
       "      <td>NOR</td>\n",
       "      <td>Winter</td>\n",
       "      <td>Albertville</td>\n",
       "      <td>Alpine Skiing</td>\n",
       "      <td>Alpine Skiing Men's Giant Slalom</td>\n",
       "      <td>1</td>\n",
       "      <td>0</td>\n",
       "      <td>0</td>\n",
       "    </tr>\n",
       "  </tbody>\n",
       "</table>\n",
       "</div>"
      ],
      "text/plain": [
       "                                isim cinsiyet   yas    boy  kilo    takım  \\\n",
       "tarih_saat                                                                  \n",
       "2014-01-01  Juhamatti Tapio Aaltonen        M  28.0  184.0  85.0  Finland   \n",
       "1992-01-01        Kjetil Andr Aamodt        M  20.0  176.0  85.0   Norway   \n",
       "1992-01-01        Kjetil Andr Aamodt        M  20.0  176.0  85.0   Norway   \n",
       "\n",
       "            uok   sezon        sehir           spor  \\\n",
       "tarih_saat                                            \n",
       "2014-01-01  FIN  Winter        Sochi     Ice Hockey   \n",
       "1992-01-01  NOR  Winter  Albertville  Alpine Skiing   \n",
       "1992-01-01  NOR  Winter  Albertville  Alpine Skiing   \n",
       "\n",
       "                                    etkinlik  madalya_Bronze  madalya_Gold  \\\n",
       "tarih_saat                                                                   \n",
       "2014-01-01       Ice Hockey Men's Ice Hockey               1             0   \n",
       "1992-01-01       Alpine Skiing Men's Super G               0             1   \n",
       "1992-01-01  Alpine Skiing Men's Giant Slalom               1             0   \n",
       "\n",
       "            madalya_Silver  \n",
       "tarih_saat                  \n",
       "2014-01-01               0  \n",
       "1992-01-01               0  \n",
       "1992-01-01               0  "
      ]
     },
     "execution_count": 52,
     "metadata": {},
     "output_type": "execute_result"
    }
   ],
   "source": [
    "yaz = veri_zaman[veri_zaman.sezon == \"Summer\"]\n",
    "kis = veri_zaman[veri_zaman.sezon == \"Winter\"]\n",
    "kis.head(3)"
   ]
  },
  {
   "cell_type": "code",
   "execution_count": 53,
   "id": "3fdc697b",
   "metadata": {},
   "outputs": [
    {
     "data": {
      "text/html": [
       "<div>\n",
       "<style scoped>\n",
       "    .dataframe tbody tr th:only-of-type {\n",
       "        vertical-align: middle;\n",
       "    }\n",
       "\n",
       "    .dataframe tbody tr th {\n",
       "        vertical-align: top;\n",
       "    }\n",
       "\n",
       "    .dataframe thead th {\n",
       "        text-align: right;\n",
       "    }\n",
       "</style>\n",
       "<table border=\"1\" class=\"dataframe\">\n",
       "  <thead>\n",
       "    <tr style=\"text-align: right;\">\n",
       "      <th></th>\n",
       "      <th>yas</th>\n",
       "      <th>boy</th>\n",
       "      <th>kilo</th>\n",
       "      <th>madalya_Bronze</th>\n",
       "      <th>madalya_Gold</th>\n",
       "      <th>madalya_Silver</th>\n",
       "    </tr>\n",
       "    <tr>\n",
       "      <th>tarih_saat</th>\n",
       "      <th></th>\n",
       "      <th></th>\n",
       "      <th></th>\n",
       "      <th></th>\n",
       "      <th></th>\n",
       "      <th></th>\n",
       "    </tr>\n",
       "  </thead>\n",
       "  <tbody>\n",
       "    <tr>\n",
       "      <th>1924-12-31</th>\n",
       "      <td>3919.60</td>\n",
       "      <td>17081.06</td>\n",
       "      <td>7370.48</td>\n",
       "      <td>37</td>\n",
       "      <td>55</td>\n",
       "      <td>38</td>\n",
       "    </tr>\n",
       "    <tr>\n",
       "      <th>1928-12-31</th>\n",
       "      <td>2265.56</td>\n",
       "      <td>15745.75</td>\n",
       "      <td>6862.50</td>\n",
       "      <td>31</td>\n",
       "      <td>30</td>\n",
       "      <td>28</td>\n",
       "    </tr>\n",
       "    <tr>\n",
       "      <th>1932-12-31</th>\n",
       "      <td>2431.00</td>\n",
       "      <td>16357.71</td>\n",
       "      <td>7067.76</td>\n",
       "      <td>28</td>\n",
       "      <td>32</td>\n",
       "      <td>32</td>\n",
       "    </tr>\n",
       "    <tr>\n",
       "      <th>1936-12-31</th>\n",
       "      <td>2742.00</td>\n",
       "      <td>19123.20</td>\n",
       "      <td>8101.88</td>\n",
       "      <td>35</td>\n",
       "      <td>36</td>\n",
       "      <td>37</td>\n",
       "    </tr>\n",
       "    <tr>\n",
       "      <th>1948-12-31</th>\n",
       "      <td>3643.00</td>\n",
       "      <td>23942.51</td>\n",
       "      <td>10375.92</td>\n",
       "      <td>46</td>\n",
       "      <td>41</td>\n",
       "      <td>48</td>\n",
       "    </tr>\n",
       "  </tbody>\n",
       "</table>\n",
       "</div>"
      ],
      "text/plain": [
       "                yas       boy      kilo  madalya_Bronze  madalya_Gold  \\\n",
       "tarih_saat                                                              \n",
       "1924-12-31  3919.60  17081.06   7370.48              37            55   \n",
       "1928-12-31  2265.56  15745.75   6862.50              31            30   \n",
       "1932-12-31  2431.00  16357.71   7067.76              28            32   \n",
       "1936-12-31  2742.00  19123.20   8101.88              35            36   \n",
       "1948-12-31  3643.00  23942.51  10375.92              46            41   \n",
       "\n",
       "            madalya_Silver  \n",
       "tarih_saat                  \n",
       "1924-12-31              38  \n",
       "1928-12-31              28  \n",
       "1932-12-31              32  \n",
       "1936-12-31              37  \n",
       "1948-12-31              48  "
      ]
     },
     "execution_count": 53,
     "metadata": {},
     "output_type": "execute_result"
    }
   ],
   "source": [
    "periyodik_veri_kis = kis.resample(\"A\").sum()\n",
    "periyodik_veri_kis = periyodik_veri_kis[~(periyodik_veri_kis == 0).any(axis = 1)]\n",
    "periyodik_veri_kis.head()"
   ]
  },
  {
   "cell_type": "code",
   "execution_count": 54,
   "id": "aa2dbaa0",
   "metadata": {},
   "outputs": [
    {
     "data": {
      "text/html": [
       "<div>\n",
       "<style scoped>\n",
       "    .dataframe tbody tr th:only-of-type {\n",
       "        vertical-align: middle;\n",
       "    }\n",
       "\n",
       "    .dataframe tbody tr th {\n",
       "        vertical-align: top;\n",
       "    }\n",
       "\n",
       "    .dataframe thead th {\n",
       "        text-align: right;\n",
       "    }\n",
       "</style>\n",
       "<table border=\"1\" class=\"dataframe\">\n",
       "  <thead>\n",
       "    <tr style=\"text-align: right;\">\n",
       "      <th></th>\n",
       "      <th>yas</th>\n",
       "      <th>boy</th>\n",
       "      <th>kilo</th>\n",
       "      <th>madalya_Bronze</th>\n",
       "      <th>madalya_Gold</th>\n",
       "      <th>madalya_Silver</th>\n",
       "    </tr>\n",
       "    <tr>\n",
       "      <th>tarih_saat</th>\n",
       "      <th></th>\n",
       "      <th></th>\n",
       "      <th></th>\n",
       "      <th></th>\n",
       "      <th></th>\n",
       "      <th></th>\n",
       "    </tr>\n",
       "  </thead>\n",
       "  <tbody>\n",
       "    <tr>\n",
       "      <th>1896-12-31</th>\n",
       "      <td>3418.52</td>\n",
       "      <td>20187.91</td>\n",
       "      <td>8350.67</td>\n",
       "      <td>38.0</td>\n",
       "      <td>62.0</td>\n",
       "      <td>43.0</td>\n",
       "    </tr>\n",
       "    <tr>\n",
       "      <th>1900-12-31</th>\n",
       "      <td>16783.16</td>\n",
       "      <td>74652.33</td>\n",
       "      <td>27047.29</td>\n",
       "      <td>175.0</td>\n",
       "      <td>201.0</td>\n",
       "      <td>228.0</td>\n",
       "    </tr>\n",
       "    <tr>\n",
       "      <th>1904-12-31</th>\n",
       "      <td>12812.84</td>\n",
       "      <td>82281.69</td>\n",
       "      <td>28630.58</td>\n",
       "      <td>150.0</td>\n",
       "      <td>173.0</td>\n",
       "      <td>163.0</td>\n",
       "    </tr>\n",
       "    <tr>\n",
       "      <th>1906-12-31</th>\n",
       "      <td>12127.56</td>\n",
       "      <td>64460.57</td>\n",
       "      <td>25228.96</td>\n",
       "      <td>145.0</td>\n",
       "      <td>157.0</td>\n",
       "      <td>156.0</td>\n",
       "    </tr>\n",
       "    <tr>\n",
       "      <th>1908-12-31</th>\n",
       "      <td>22907.96</td>\n",
       "      <td>141370.93</td>\n",
       "      <td>49384.64</td>\n",
       "      <td>256.0</td>\n",
       "      <td>294.0</td>\n",
       "      <td>281.0</td>\n",
       "    </tr>\n",
       "  </tbody>\n",
       "</table>\n",
       "</div>"
      ],
      "text/plain": [
       "                 yas        boy      kilo  madalya_Bronze  madalya_Gold  \\\n",
       "tarih_saat                                                                \n",
       "1896-12-31   3418.52   20187.91   8350.67            38.0          62.0   \n",
       "1900-12-31  16783.16   74652.33  27047.29           175.0         201.0   \n",
       "1904-12-31  12812.84   82281.69  28630.58           150.0         173.0   \n",
       "1906-12-31  12127.56   64460.57  25228.96           145.0         157.0   \n",
       "1908-12-31  22907.96  141370.93  49384.64           256.0         294.0   \n",
       "\n",
       "            madalya_Silver  \n",
       "tarih_saat                  \n",
       "1896-12-31            43.0  \n",
       "1900-12-31           228.0  \n",
       "1904-12-31           163.0  \n",
       "1906-12-31           156.0  \n",
       "1908-12-31           281.0  "
      ]
     },
     "execution_count": 54,
     "metadata": {},
     "output_type": "execute_result"
    }
   ],
   "source": [
    "periyodik_veri_yaz = yaz.resample(\"A\").sum()\n",
    "periyodik_veri_yaz = periyodik_veri_yaz[~(periyodik_veri_yaz == 0).any(axis = 1)]\n",
    "periyodik_veri_yaz.head()"
   ]
  },
  {
   "cell_type": "code",
   "execution_count": 56,
   "id": "59dea421",
   "metadata": {},
   "outputs": [
    {
     "data": {
      "text/plain": [
       "<function matplotlib.pyplot.show(close=None, block=None)>"
      ]
     },
     "execution_count": 56,
     "metadata": {},
     "output_type": "execute_result"
    },
    {
     "data": {
      "text/plain": [
       "<Figure size 432x288 with 0 Axes>"
      ]
     },
     "metadata": {},
     "output_type": "display_data"
    },
    {
     "data": {
      "image/png": "[encoded data removed]",
      "text/plain": [
       "<Figure size 432x288 with 1 Axes>"
      ]
     },
     "metadata": {
      "needs_background": "light"
     },
     "output_type": "display_data"
    },
    {
     "data": {
      "text/plain": [
       "<Figure size 432x288 with 0 Axes>"
      ]
     },
     "metadata": {},
     "output_type": "display_data"
    },
    {
     "data": {
      "image/png": "[encoded data removed]",
      "text/plain": [
       "<Figure size 432x288 with 1 Axes>"
      ]
     },
     "metadata": {
      "needs_background": "light"
     },
     "output_type": "display_data"
    }
   ],
   "source": [
    "plt.figure()\n",
    "periyodik_veri_yaz.loc[:,[\"madalya_Bronze\", \"madalya_Gold\", \"madalya_Silver\"]].plot()\n",
    "plt.title(\"Yıllara Göre Madalya Sayısı - Yaz Sezonu\")\n",
    "plt.xlabel(\"Yıl\")\n",
    "plt.ylabel(\"Sayı\")\n",
    "plt.grid(True)\n",
    "plt.show\n",
    "\n",
    "\n",
    "plt.figure()\n",
    "periyodik_veri_kis.loc[:,[\"madalya_Bronze\", \"madalya_Gold\", \"madalya_Silver\"]].plot()\n",
    "plt.title(\"Yıllara Göre Madalya Sayısı - Kış Sezonu\")\n",
    "plt.xlabel(\"Yıl\")\n",
    "plt.ylabel(\"Sayı\")\n",
    "plt.grid(True)\n",
    "plt.show"
   ]
  },
  {
   "cell_type": "code",
   "execution_count": null,
   "id": "4d11dab4",
   "metadata": {},
   "outputs": [],
   "source": []
  }
 ],
 "metadata": {
  "kernelspec": {
   "display_name": "Python 3 (ipykernel)",
   "language": "python",
   "name": "python3"
  },
  "language_info": {
   "codemirror_mode": {
    "name": "ipython",
    "version": 3
   },
   "file_extension": ".py",
   "mimetype": "text/x-python",
   "name": "python",
   "nbconvert_exporter": "python",
   "pygments_lexer": "ipython3",
   "version": "3.9.12"
  }
 },
 "nbformat": 4,
 "nbformat_minor": 5
}
